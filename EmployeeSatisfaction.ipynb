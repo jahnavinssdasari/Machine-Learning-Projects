{
  "nbformat": 4,
  "nbformat_minor": 0,
  "metadata": {
    "colab": {
      "provenance": [],
      "authorship_tag": "ABX9TyMI/Krac1odaTdYKq13qZuF",
      "include_colab_link": true
    },
    "kernelspec": {
      "name": "python3",
      "display_name": "Python 3"
    },
    "language_info": {
      "name": "python"
    },
    "widgets": {
      "application/vnd.jupyter.widget-state+json": {
        "e28172fe30e94576aeb0d4d268374db8": {
          "model_module": "@jupyter-widgets/controls",
          "model_name": "HBoxModel",
          "model_module_version": "1.5.0",
          "state": {
            "_dom_classes": [],
            "_model_module": "@jupyter-widgets/controls",
            "_model_module_version": "1.5.0",
            "_model_name": "HBoxModel",
            "_view_count": null,
            "_view_module": "@jupyter-widgets/controls",
            "_view_module_version": "1.5.0",
            "_view_name": "HBoxView",
            "box_style": "",
            "children": [
              "IPY_MODEL_67854da628084e4c916b6a0cf9f902e8",
              "IPY_MODEL_904b9e4a4d234dd49c7541fbb04fa354",
              "IPY_MODEL_9b456f2d0c454f57b1280f338438585a"
            ],
            "layout": "IPY_MODEL_072b8fbaf0534540aae859419bd7f774"
          }
        },
        "67854da628084e4c916b6a0cf9f902e8": {
          "model_module": "@jupyter-widgets/controls",
          "model_name": "HTMLModel",
          "model_module_version": "1.5.0",
          "state": {
            "_dom_classes": [],
            "_model_module": "@jupyter-widgets/controls",
            "_model_module_version": "1.5.0",
            "_model_name": "HTMLModel",
            "_view_count": null,
            "_view_module": "@jupyter-widgets/controls",
            "_view_module_version": "1.5.0",
            "_view_name": "HTMLView",
            "description": "",
            "description_tooltip": null,
            "layout": "IPY_MODEL_cd3893cafcf848dfa7a686cb168dc959",
            "placeholder": "​",
            "style": "IPY_MODEL_0b2ad8ff4f4d48a0b476af27f0ab4d73",
            "value": "Done! Use &#x27;show&#x27; commands to display/save.   "
          }
        },
        "904b9e4a4d234dd49c7541fbb04fa354": {
          "model_module": "@jupyter-widgets/controls",
          "model_name": "FloatProgressModel",
          "model_module_version": "1.5.0",
          "state": {
            "_dom_classes": [],
            "_model_module": "@jupyter-widgets/controls",
            "_model_module_version": "1.5.0",
            "_model_name": "FloatProgressModel",
            "_view_count": null,
            "_view_module": "@jupyter-widgets/controls",
            "_view_module_version": "1.5.0",
            "_view_name": "ProgressView",
            "bar_style": "success",
            "description": "",
            "description_tooltip": null,
            "layout": "IPY_MODEL_88bfd75cfd3f41979244957580706eb2",
            "max": 1,
            "min": 0,
            "orientation": "horizontal",
            "style": "IPY_MODEL_e4b222fd16554027b6307374b9b7cbe1",
            "value": 1
          }
        },
        "9b456f2d0c454f57b1280f338438585a": {
          "model_module": "@jupyter-widgets/controls",
          "model_name": "HTMLModel",
          "model_module_version": "1.5.0",
          "state": {
            "_dom_classes": [],
            "_model_module": "@jupyter-widgets/controls",
            "_model_module_version": "1.5.0",
            "_model_name": "HTMLModel",
            "_view_count": null,
            "_view_module": "@jupyter-widgets/controls",
            "_view_module_version": "1.5.0",
            "_view_name": "HTMLView",
            "description": "",
            "description_tooltip": null,
            "layout": "IPY_MODEL_4f857ce277d74a52b3b3bbd961ff0edd",
            "placeholder": "​",
            "style": "IPY_MODEL_18fbe29857ad45d38353e0fb4467f6cf",
            "value": " [100%]   00:01 -&gt; (00:00 left)"
          }
        },
        "072b8fbaf0534540aae859419bd7f774": {
          "model_module": "@jupyter-widgets/base",
          "model_name": "LayoutModel",
          "model_module_version": "1.2.0",
          "state": {
            "_model_module": "@jupyter-widgets/base",
            "_model_module_version": "1.2.0",
            "_model_name": "LayoutModel",
            "_view_count": null,
            "_view_module": "@jupyter-widgets/base",
            "_view_module_version": "1.2.0",
            "_view_name": "LayoutView",
            "align_content": null,
            "align_items": null,
            "align_self": null,
            "border": null,
            "bottom": null,
            "display": "inline-flex",
            "flex": null,
            "flex_flow": "row wrap",
            "grid_area": null,
            "grid_auto_columns": null,
            "grid_auto_flow": null,
            "grid_auto_rows": null,
            "grid_column": null,
            "grid_gap": null,
            "grid_row": null,
            "grid_template_areas": null,
            "grid_template_columns": null,
            "grid_template_rows": null,
            "height": null,
            "justify_content": null,
            "justify_items": null,
            "left": null,
            "margin": null,
            "max_height": null,
            "max_width": null,
            "min_height": null,
            "min_width": null,
            "object_fit": null,
            "object_position": null,
            "order": null,
            "overflow": null,
            "overflow_x": null,
            "overflow_y": null,
            "padding": null,
            "right": null,
            "top": null,
            "visibility": null,
            "width": "100%"
          }
        },
        "cd3893cafcf848dfa7a686cb168dc959": {
          "model_module": "@jupyter-widgets/base",
          "model_name": "LayoutModel",
          "model_module_version": "1.2.0",
          "state": {
            "_model_module": "@jupyter-widgets/base",
            "_model_module_version": "1.2.0",
            "_model_name": "LayoutModel",
            "_view_count": null,
            "_view_module": "@jupyter-widgets/base",
            "_view_module_version": "1.2.0",
            "_view_name": "LayoutView",
            "align_content": null,
            "align_items": null,
            "align_self": null,
            "border": null,
            "bottom": null,
            "display": null,
            "flex": null,
            "flex_flow": null,
            "grid_area": null,
            "grid_auto_columns": null,
            "grid_auto_flow": null,
            "grid_auto_rows": null,
            "grid_column": null,
            "grid_gap": null,
            "grid_row": null,
            "grid_template_areas": null,
            "grid_template_columns": null,
            "grid_template_rows": null,
            "height": null,
            "justify_content": null,
            "justify_items": null,
            "left": null,
            "margin": null,
            "max_height": null,
            "max_width": null,
            "min_height": null,
            "min_width": null,
            "object_fit": null,
            "object_position": null,
            "order": null,
            "overflow": null,
            "overflow_x": null,
            "overflow_y": null,
            "padding": null,
            "right": null,
            "top": null,
            "visibility": null,
            "width": null
          }
        },
        "0b2ad8ff4f4d48a0b476af27f0ab4d73": {
          "model_module": "@jupyter-widgets/controls",
          "model_name": "DescriptionStyleModel",
          "model_module_version": "1.5.0",
          "state": {
            "_model_module": "@jupyter-widgets/controls",
            "_model_module_version": "1.5.0",
            "_model_name": "DescriptionStyleModel",
            "_view_count": null,
            "_view_module": "@jupyter-widgets/base",
            "_view_module_version": "1.2.0",
            "_view_name": "StyleView",
            "description_width": ""
          }
        },
        "88bfd75cfd3f41979244957580706eb2": {
          "model_module": "@jupyter-widgets/base",
          "model_name": "LayoutModel",
          "model_module_version": "1.2.0",
          "state": {
            "_model_module": "@jupyter-widgets/base",
            "_model_module_version": "1.2.0",
            "_model_name": "LayoutModel",
            "_view_count": null,
            "_view_module": "@jupyter-widgets/base",
            "_view_module_version": "1.2.0",
            "_view_name": "LayoutView",
            "align_content": null,
            "align_items": null,
            "align_self": null,
            "border": null,
            "bottom": null,
            "display": null,
            "flex": "2",
            "flex_flow": null,
            "grid_area": null,
            "grid_auto_columns": null,
            "grid_auto_flow": null,
            "grid_auto_rows": null,
            "grid_column": null,
            "grid_gap": null,
            "grid_row": null,
            "grid_template_areas": null,
            "grid_template_columns": null,
            "grid_template_rows": null,
            "height": null,
            "justify_content": null,
            "justify_items": null,
            "left": null,
            "margin": null,
            "max_height": null,
            "max_width": null,
            "min_height": null,
            "min_width": null,
            "object_fit": null,
            "object_position": null,
            "order": null,
            "overflow": null,
            "overflow_x": null,
            "overflow_y": null,
            "padding": null,
            "right": null,
            "top": null,
            "visibility": null,
            "width": null
          }
        },
        "e4b222fd16554027b6307374b9b7cbe1": {
          "model_module": "@jupyter-widgets/controls",
          "model_name": "ProgressStyleModel",
          "model_module_version": "1.5.0",
          "state": {
            "_model_module": "@jupyter-widgets/controls",
            "_model_module_version": "1.5.0",
            "_model_name": "ProgressStyleModel",
            "_view_count": null,
            "_view_module": "@jupyter-widgets/base",
            "_view_module_version": "1.2.0",
            "_view_name": "StyleView",
            "bar_color": null,
            "description_width": ""
          }
        },
        "4f857ce277d74a52b3b3bbd961ff0edd": {
          "model_module": "@jupyter-widgets/base",
          "model_name": "LayoutModel",
          "model_module_version": "1.2.0",
          "state": {
            "_model_module": "@jupyter-widgets/base",
            "_model_module_version": "1.2.0",
            "_model_name": "LayoutModel",
            "_view_count": null,
            "_view_module": "@jupyter-widgets/base",
            "_view_module_version": "1.2.0",
            "_view_name": "LayoutView",
            "align_content": null,
            "align_items": null,
            "align_self": null,
            "border": null,
            "bottom": null,
            "display": null,
            "flex": null,
            "flex_flow": null,
            "grid_area": null,
            "grid_auto_columns": null,
            "grid_auto_flow": null,
            "grid_auto_rows": null,
            "grid_column": null,
            "grid_gap": null,
            "grid_row": null,
            "grid_template_areas": null,
            "grid_template_columns": null,
            "grid_template_rows": null,
            "height": null,
            "justify_content": null,
            "justify_items": null,
            "left": null,
            "margin": null,
            "max_height": null,
            "max_width": null,
            "min_height": null,
            "min_width": null,
            "object_fit": null,
            "object_position": null,
            "order": null,
            "overflow": null,
            "overflow_x": null,
            "overflow_y": null,
            "padding": null,
            "right": null,
            "top": null,
            "visibility": null,
            "width": null
          }
        },
        "18fbe29857ad45d38353e0fb4467f6cf": {
          "model_module": "@jupyter-widgets/controls",
          "model_name": "DescriptionStyleModel",
          "model_module_version": "1.5.0",
          "state": {
            "_model_module": "@jupyter-widgets/controls",
            "_model_module_version": "1.5.0",
            "_model_name": "DescriptionStyleModel",
            "_view_count": null,
            "_view_module": "@jupyter-widgets/base",
            "_view_module_version": "1.2.0",
            "_view_name": "StyleView",
            "description_width": ""
          }
        }
      }
    }
  },
  "cells": [
    {
      "cell_type": "markdown",
      "metadata": {
        "id": "view-in-github",
        "colab_type": "text"
      },
      "source": [
        "<a href=\"https://colab.research.google.com/github/jahnavinssdasari/Machine-Learning-Projects/blob/main/EmployeeSatisfaction.ipynb\" target=\"_parent\"><img src=\"https://colab.research.google.com/assets/colab-badge.svg\" alt=\"Open In Colab\"/></a>"
      ]
    },
    {
      "cell_type": "code",
      "source": [
        "pip install feature_engine"
      ],
      "metadata": {
        "colab": {
          "base_uri": "https://localhost:8080/"
        },
        "id": "xEtbcJ6DQQEY",
        "outputId": "3283bf73-0354-433b-f903-1300a7ced4e2"
      },
      "execution_count": null,
      "outputs": [
        {
          "output_type": "stream",
          "name": "stdout",
          "text": [
            "Requirement already satisfied: feature_engine in /usr/local/lib/python3.10/dist-packages (1.8.1)\n",
            "Requirement already satisfied: numpy>=1.18.2 in /usr/local/lib/python3.10/dist-packages (from feature_engine) (1.26.4)\n",
            "Requirement already satisfied: pandas>=2.2.0 in /usr/local/lib/python3.10/dist-packages (from feature_engine) (2.2.2)\n",
            "Requirement already satisfied: scikit-learn>=1.4.0 in /usr/local/lib/python3.10/dist-packages (from feature_engine) (1.5.2)\n",
            "Requirement already satisfied: scipy>=1.4.1 in /usr/local/lib/python3.10/dist-packages (from feature_engine) (1.13.1)\n",
            "Requirement already satisfied: statsmodels>=0.11.1 in /usr/local/lib/python3.10/dist-packages (from feature_engine) (0.14.4)\n",
            "Requirement already satisfied: python-dateutil>=2.8.2 in /usr/local/lib/python3.10/dist-packages (from pandas>=2.2.0->feature_engine) (2.8.2)\n",
            "Requirement already satisfied: pytz>=2020.1 in /usr/local/lib/python3.10/dist-packages (from pandas>=2.2.0->feature_engine) (2024.2)\n",
            "Requirement already satisfied: tzdata>=2022.7 in /usr/local/lib/python3.10/dist-packages (from pandas>=2.2.0->feature_engine) (2024.2)\n",
            "Requirement already satisfied: joblib>=1.2.0 in /usr/local/lib/python3.10/dist-packages (from scikit-learn>=1.4.0->feature_engine) (1.4.2)\n",
            "Requirement already satisfied: threadpoolctl>=3.1.0 in /usr/local/lib/python3.10/dist-packages (from scikit-learn>=1.4.0->feature_engine) (3.5.0)\n",
            "Requirement already satisfied: patsy>=0.5.6 in /usr/local/lib/python3.10/dist-packages (from statsmodels>=0.11.1->feature_engine) (0.5.6)\n",
            "Requirement already satisfied: packaging>=21.3 in /usr/local/lib/python3.10/dist-packages (from statsmodels>=0.11.1->feature_engine) (24.1)\n",
            "Requirement already satisfied: six in /usr/local/lib/python3.10/dist-packages (from patsy>=0.5.6->statsmodels>=0.11.1->feature_engine) (1.16.0)\n"
          ]
        }
      ]
    },
    {
      "cell_type": "code",
      "source": [
        "pip install dtale"
      ],
      "metadata": {
        "colab": {
          "base_uri": "https://localhost:8080/"
        },
        "id": "ZnWzT6mIRr4C",
        "outputId": "c81f8c82-1d46-4258-c7b8-d811f9f25bd1"
      },
      "execution_count": null,
      "outputs": [
        {
          "output_type": "stream",
          "name": "stdout",
          "text": [
            "Collecting dtale\n",
            "  Downloading dtale-3.14.1-py2.py3-none-any.whl.metadata (17 kB)\n",
            "Collecting dash-colorscales (from dtale)\n",
            "  Downloading dash_colorscales-0.0.4.tar.gz (62 kB)\n",
            "\u001b[2K     \u001b[90m━━━━━━━━━━━━━━━━━━━━━━━━━━━━━━━━━━━━━━━━\u001b[0m \u001b[32m62.3/62.3 kB\u001b[0m \u001b[31m4.0 MB/s\u001b[0m eta \u001b[36m0:00:00\u001b[0m\n",
            "\u001b[?25h  Preparing metadata (setup.py) ... \u001b[?25l\u001b[?25hdone\n",
            "Collecting dash-daq (from dtale)\n",
            "  Downloading dash_daq-0.5.0.tar.gz (642 kB)\n",
            "\u001b[2K     \u001b[90m━━━━━━━━━━━━━━━━━━━━━━━━━━━━━━━━━━━━━━━━\u001b[0m \u001b[32m642.7/642.7 kB\u001b[0m \u001b[31m11.8 MB/s\u001b[0m eta \u001b[36m0:00:00\u001b[0m\n",
            "\u001b[?25h  Preparing metadata (setup.py) ... \u001b[?25l\u001b[?25hdone\n",
            "Collecting Flask-Compress (from dtale)\n",
            "  Downloading Flask_Compress-1.17-py3-none-any.whl.metadata (8.8 kB)\n",
            "Requirement already satisfied: future>=0.14.0 in /usr/local/lib/python3.10/dist-packages (from dtale) (1.0.0)\n",
            "Collecting kaleido (from dtale)\n",
            "  Downloading kaleido-0.2.1-py2.py3-none-manylinux1_x86_64.whl.metadata (15 kB)\n",
            "Requirement already satisfied: missingno in /usr/local/lib/python3.10/dist-packages (from dtale) (0.5.2)\n",
            "Requirement already satisfied: pandas in /usr/local/lib/python3.10/dist-packages (from dtale) (2.2.2)\n",
            "Collecting squarify (from dtale)\n",
            "  Downloading squarify-0.4.4-py3-none-any.whl.metadata (600 bytes)\n",
            "Collecting strsimpy (from dtale)\n",
            "  Downloading strsimpy-0.2.1-py3-none-any.whl.metadata (20 kB)\n",
            "Requirement already satisfied: six in /usr/local/lib/python3.10/dist-packages (from dtale) (1.16.0)\n",
            "Requirement already satisfied: xlrd in /usr/local/lib/python3.10/dist-packages (from dtale) (2.0.1)\n",
            "Requirement already satisfied: beautifulsoup4!=4.13.0b2 in /usr/local/lib/python3.10/dist-packages (from dtale) (4.12.3)\n",
            "Requirement already satisfied: certifi in /usr/local/lib/python3.10/dist-packages (from dtale) (2024.8.30)\n",
            "Collecting flask-ngrok (from dtale)\n",
            "  Downloading flask_ngrok-0.0.25-py3-none-any.whl.metadata (1.8 kB)\n",
            "Collecting lz4 (from dtale)\n",
            "  Downloading lz4-4.3.3-cp310-cp310-manylinux_2_17_x86_64.manylinux2014_x86_64.whl.metadata (3.7 kB)\n",
            "Requirement already satisfied: cycler in /usr/local/lib/python3.10/dist-packages (from dtale) (0.12.1)\n",
            "Collecting dash-bootstrap-components<=1.3.1 (from dtale)\n",
            "  Downloading dash_bootstrap_components-1.3.1-py3-none-any.whl.metadata (5.2 kB)\n",
            "Collecting dash (from dtale)\n",
            "  Downloading dash-2.18.1-py3-none-any.whl.metadata (10 kB)\n",
            "Requirement already satisfied: seaborn in /usr/local/lib/python3.10/dist-packages (from dtale) (0.13.2)\n",
            "Requirement already satisfied: werkzeug in /usr/local/lib/python3.10/dist-packages (from dtale) (3.0.4)\n",
            "Requirement already satisfied: scikit-learn in /usr/local/lib/python3.10/dist-packages (from dtale) (1.5.2)\n",
            "Requirement already satisfied: statsmodels in /usr/local/lib/python3.10/dist-packages (from dtale) (0.14.4)\n",
            "Requirement already satisfied: networkx in /usr/local/lib/python3.10/dist-packages (from dtale) (3.4)\n",
            "Requirement already satisfied: numpy in /usr/local/lib/python3.10/dist-packages (from dtale) (1.26.4)\n",
            "Requirement already satisfied: openpyxl!=3.2.0b1 in /usr/local/lib/python3.10/dist-packages (from dtale) (3.1.5)\n",
            "Requirement already satisfied: xarray in /usr/local/lib/python3.10/dist-packages (from dtale) (2024.9.0)\n",
            "Requirement already satisfied: scipy!=1.12.0rc1,!=1.14.0,!=1.14.0rc1,!=1.14.0rc2 in /usr/local/lib/python3.10/dist-packages (from dtale) (1.13.1)\n",
            "Requirement already satisfied: et-xmlfile in /usr/local/lib/python3.10/dist-packages (from dtale) (1.1.0)\n",
            "Requirement already satisfied: plotly in /usr/local/lib/python3.10/dist-packages (from dtale) (5.24.1)\n",
            "Requirement already satisfied: Flask<2.3 in /usr/local/lib/python3.10/dist-packages (from dtale) (2.2.5)\n",
            "Requirement already satisfied: requests in /usr/local/lib/python3.10/dist-packages (from dtale) (2.32.3)\n",
            "Requirement already satisfied: itsdangerous in /usr/local/lib/python3.10/dist-packages (from dtale) (2.2.0)\n",
            "Requirement already satisfied: contourpy in /usr/local/lib/python3.10/dist-packages (from dtale) (1.3.0)\n",
            "Requirement already satisfied: matplotlib in /usr/local/lib/python3.10/dist-packages (from dtale) (3.7.1)\n",
            "Requirement already satisfied: soupsieve>1.2 in /usr/local/lib/python3.10/dist-packages (from beautifulsoup4!=4.13.0b2->dtale) (2.6)\n",
            "Collecting dash-html-components==2.0.0 (from dash->dtale)\n",
            "  Downloading dash_html_components-2.0.0-py3-none-any.whl.metadata (3.8 kB)\n",
            "Collecting dash-core-components==2.0.0 (from dash->dtale)\n",
            "  Downloading dash_core_components-2.0.0-py3-none-any.whl.metadata (2.9 kB)\n",
            "Collecting dash-table==5.0.0 (from dash->dtale)\n",
            "  Downloading dash_table-5.0.0-py3-none-any.whl.metadata (2.4 kB)\n",
            "Requirement already satisfied: importlib-metadata in /usr/local/lib/python3.10/dist-packages (from dash->dtale) (8.5.0)\n",
            "Requirement already satisfied: typing-extensions>=4.1.1 in /usr/local/lib/python3.10/dist-packages (from dash->dtale) (4.12.2)\n",
            "Collecting retrying (from dash->dtale)\n",
            "  Downloading retrying-1.3.4-py3-none-any.whl.metadata (6.9 kB)\n",
            "Requirement already satisfied: nest-asyncio in /usr/local/lib/python3.10/dist-packages (from dash->dtale) (1.6.0)\n",
            "Requirement already satisfied: setuptools in /usr/local/lib/python3.10/dist-packages (from dash->dtale) (71.0.4)\n",
            "Requirement already satisfied: Jinja2>=3.0 in /usr/local/lib/python3.10/dist-packages (from Flask<2.3->dtale) (3.1.4)\n",
            "Requirement already satisfied: click>=8.0 in /usr/local/lib/python3.10/dist-packages (from Flask<2.3->dtale) (8.1.7)\n",
            "Requirement already satisfied: tenacity>=6.2.0 in /usr/local/lib/python3.10/dist-packages (from plotly->dtale) (9.0.0)\n",
            "Requirement already satisfied: packaging in /usr/local/lib/python3.10/dist-packages (from plotly->dtale) (24.1)\n",
            "Requirement already satisfied: MarkupSafe>=2.1.1 in /usr/local/lib/python3.10/dist-packages (from werkzeug->dtale) (3.0.1)\n",
            "Collecting brotli (from Flask-Compress->dtale)\n",
            "  Downloading Brotli-1.1.0-cp310-cp310-manylinux_2_5_x86_64.manylinux1_x86_64.manylinux_2_12_x86_64.manylinux2010_x86_64.whl.metadata (5.5 kB)\n",
            "Collecting zstandard (from Flask-Compress->dtale)\n",
            "  Downloading zstandard-0.23.0-cp310-cp310-manylinux_2_17_x86_64.manylinux2014_x86_64.whl.metadata (3.0 kB)\n",
            "Requirement already satisfied: fonttools>=4.22.0 in /usr/local/lib/python3.10/dist-packages (from matplotlib->dtale) (4.54.1)\n",
            "Requirement already satisfied: kiwisolver>=1.0.1 in /usr/local/lib/python3.10/dist-packages (from matplotlib->dtale) (1.4.7)\n",
            "Requirement already satisfied: pillow>=6.2.0 in /usr/local/lib/python3.10/dist-packages (from matplotlib->dtale) (10.4.0)\n",
            "Requirement already satisfied: pyparsing>=2.3.1 in /usr/local/lib/python3.10/dist-packages (from matplotlib->dtale) (3.1.4)\n",
            "Requirement already satisfied: python-dateutil>=2.7 in /usr/local/lib/python3.10/dist-packages (from matplotlib->dtale) (2.8.2)\n",
            "Requirement already satisfied: pytz>=2020.1 in /usr/local/lib/python3.10/dist-packages (from pandas->dtale) (2024.2)\n",
            "Requirement already satisfied: tzdata>=2022.7 in /usr/local/lib/python3.10/dist-packages (from pandas->dtale) (2024.2)\n",
            "Requirement already satisfied: charset-normalizer<4,>=2 in /usr/local/lib/python3.10/dist-packages (from requests->dtale) (3.4.0)\n",
            "Requirement already satisfied: idna<4,>=2.5 in /usr/local/lib/python3.10/dist-packages (from requests->dtale) (3.10)\n",
            "Requirement already satisfied: urllib3<3,>=1.21.1 in /usr/local/lib/python3.10/dist-packages (from requests->dtale) (2.2.3)\n",
            "Requirement already satisfied: joblib>=1.2.0 in /usr/local/lib/python3.10/dist-packages (from scikit-learn->dtale) (1.4.2)\n",
            "Requirement already satisfied: threadpoolctl>=3.1.0 in /usr/local/lib/python3.10/dist-packages (from scikit-learn->dtale) (3.5.0)\n",
            "Requirement already satisfied: patsy>=0.5.6 in /usr/local/lib/python3.10/dist-packages (from statsmodels->dtale) (0.5.6)\n",
            "Requirement already satisfied: zipp>=3.20 in /usr/local/lib/python3.10/dist-packages (from importlib-metadata->dash->dtale) (3.20.2)\n",
            "Downloading dtale-3.14.1-py2.py3-none-any.whl (14.5 MB)\n",
            "\u001b[2K   \u001b[90m━━━━━━━━━━━━━━━━━━━━━━━━━━━━━━━━━━━━━━━━\u001b[0m \u001b[32m14.5/14.5 MB\u001b[0m \u001b[31m80.9 MB/s\u001b[0m eta \u001b[36m0:00:00\u001b[0m\n",
            "\u001b[?25hDownloading dash_bootstrap_components-1.3.1-py3-none-any.whl (219 kB)\n",
            "\u001b[2K   \u001b[90m━━━━━━━━━━━━━━━━━━━━━━━━━━━━━━━━━━━━━━━━\u001b[0m \u001b[32m219.7/219.7 kB\u001b[0m \u001b[31m19.2 MB/s\u001b[0m eta \u001b[36m0:00:00\u001b[0m\n",
            "\u001b[?25hDownloading dash-2.18.1-py3-none-any.whl (7.5 MB)\n",
            "\u001b[2K   \u001b[90m━━━━━━━━━━━━━━━━━━━━━━━━━━━━━━━━━━━━━━━━\u001b[0m \u001b[32m7.5/7.5 MB\u001b[0m \u001b[31m93.4 MB/s\u001b[0m eta \u001b[36m0:00:00\u001b[0m\n",
            "\u001b[?25hDownloading dash_core_components-2.0.0-py3-none-any.whl (3.8 kB)\n",
            "Downloading dash_html_components-2.0.0-py3-none-any.whl (4.1 kB)\n",
            "Downloading dash_table-5.0.0-py3-none-any.whl (3.9 kB)\n",
            "Downloading Flask_Compress-1.17-py3-none-any.whl (8.7 kB)\n",
            "Downloading flask_ngrok-0.0.25-py3-none-any.whl (3.1 kB)\n",
            "Downloading kaleido-0.2.1-py2.py3-none-manylinux1_x86_64.whl (79.9 MB)\n",
            "\u001b[2K   \u001b[90m━━━━━━━━━━━━━━━━━━━━━━━━━━━━━━━━━━━━━━━━\u001b[0m \u001b[32m79.9/79.9 MB\u001b[0m \u001b[31m9.5 MB/s\u001b[0m eta \u001b[36m0:00:00\u001b[0m\n",
            "\u001b[?25hDownloading lz4-4.3.3-cp310-cp310-manylinux_2_17_x86_64.manylinux2014_x86_64.whl (1.3 MB)\n",
            "\u001b[2K   \u001b[90m━━━━━━━━━━━━━━━━━━━━━━━━━━━━━━━━━━━━━━━━\u001b[0m \u001b[32m1.3/1.3 MB\u001b[0m \u001b[31m58.1 MB/s\u001b[0m eta \u001b[36m0:00:00\u001b[0m\n",
            "\u001b[?25hDownloading squarify-0.4.4-py3-none-any.whl (4.1 kB)\n",
            "Downloading strsimpy-0.2.1-py3-none-any.whl (45 kB)\n",
            "\u001b[2K   \u001b[90m━━━━━━━━━━━━━━━━━━━━━━━━━━━━━━━━━━━━━━━━\u001b[0m \u001b[32m45.9/45.9 kB\u001b[0m \u001b[31m3.8 MB/s\u001b[0m eta \u001b[36m0:00:00\u001b[0m\n",
            "\u001b[?25hDownloading Brotli-1.1.0-cp310-cp310-manylinux_2_5_x86_64.manylinux1_x86_64.manylinux_2_12_x86_64.manylinux2010_x86_64.whl (3.0 MB)\n",
            "\u001b[2K   \u001b[90m━━━━━━━━━━━━━━━━━━━━━━━━━━━━━━━━━━━━━━━━\u001b[0m \u001b[32m3.0/3.0 MB\u001b[0m \u001b[31m82.1 MB/s\u001b[0m eta \u001b[36m0:00:00\u001b[0m\n",
            "\u001b[?25hDownloading retrying-1.3.4-py3-none-any.whl (11 kB)\n",
            "Downloading zstandard-0.23.0-cp310-cp310-manylinux_2_17_x86_64.manylinux2014_x86_64.whl (5.4 MB)\n",
            "\u001b[2K   \u001b[90m━━━━━━━━━━━━━━━━━━━━━━━━━━━━━━━━━━━━━━━━\u001b[0m \u001b[32m5.4/5.4 MB\u001b[0m \u001b[31m95.9 MB/s\u001b[0m eta \u001b[36m0:00:00\u001b[0m\n",
            "\u001b[?25hBuilding wheels for collected packages: dash-colorscales, dash-daq\n",
            "  Building wheel for dash-colorscales (setup.py) ... \u001b[?25l\u001b[?25hdone\n",
            "  Created wheel for dash-colorscales: filename=dash_colorscales-0.0.4-py3-none-any.whl size=62567 sha256=6fb41ef52a7530618379a95b9db91692d81222e0df3b271daf83e4fa9c7e17c0\n",
            "  Stored in directory: /root/.cache/pip/wheels/70/6a/1f/95b2135cd2c895f0cd8b5d6d6ae7d5ed0a883580b34a31a14d\n",
            "  Building wheel for dash-daq (setup.py) ... \u001b[?25l\u001b[?25hdone\n",
            "  Created wheel for dash-daq: filename=dash_daq-0.5.0-py3-none-any.whl size=669693 sha256=6e360d52e4533c723343f3e13cff8e9c3ca97dc0fd5a8e650969d6bf382a2f89\n",
            "  Stored in directory: /root/.cache/pip/wheels/75/14/1b/208d09d5e239391048bdc167759977b41ba65a3d4063aebf6b\n",
            "Successfully built dash-colorscales dash-daq\n",
            "Installing collected packages: strsimpy, squarify, kaleido, dash-table, dash-html-components, dash-core-components, dash-colorscales, brotli, zstandard, retrying, lz4, flask-ngrok, Flask-Compress, dash, dash-daq, dash-bootstrap-components, dtale\n",
            "Successfully installed Flask-Compress-1.17 brotli-1.1.0 dash-2.18.1 dash-bootstrap-components-1.3.1 dash-colorscales-0.0.4 dash-core-components-2.0.0 dash-daq-0.5.0 dash-html-components-2.0.0 dash-table-5.0.0 dtale-3.14.1 flask-ngrok-0.0.25 kaleido-0.2.1 lz4-4.3.3 retrying-1.3.4 squarify-0.4.4 strsimpy-0.2.1 zstandard-0.23.0\n"
          ]
        }
      ]
    },
    {
      "cell_type": "code",
      "source": [
        "pip install sweetviz"
      ],
      "metadata": {
        "colab": {
          "base_uri": "https://localhost:8080/"
        },
        "id": "OtJfmxgASKXk",
        "outputId": "906f70eb-082e-4a3c-89b2-ae21e3282b82"
      },
      "execution_count": null,
      "outputs": [
        {
          "output_type": "stream",
          "name": "stdout",
          "text": [
            "Collecting sweetviz\n",
            "  Downloading sweetviz-2.3.1-py3-none-any.whl.metadata (24 kB)\n",
            "Requirement already satisfied: pandas!=1.0.0,!=1.0.1,!=1.0.2,>=0.25.3 in /usr/local/lib/python3.10/dist-packages (from sweetviz) (2.2.2)\n",
            "Requirement already satisfied: numpy>=1.16.0 in /usr/local/lib/python3.10/dist-packages (from sweetviz) (1.26.4)\n",
            "Requirement already satisfied: matplotlib>=3.1.3 in /usr/local/lib/python3.10/dist-packages (from sweetviz) (3.7.1)\n",
            "Requirement already satisfied: tqdm>=4.43.0 in /usr/local/lib/python3.10/dist-packages (from sweetviz) (4.66.5)\n",
            "Requirement already satisfied: scipy>=1.3.2 in /usr/local/lib/python3.10/dist-packages (from sweetviz) (1.13.1)\n",
            "Requirement already satisfied: jinja2>=2.11.1 in /usr/local/lib/python3.10/dist-packages (from sweetviz) (3.1.4)\n",
            "Requirement already satisfied: importlib-resources>=1.2.0 in /usr/local/lib/python3.10/dist-packages (from sweetviz) (6.4.5)\n",
            "Requirement already satisfied: MarkupSafe>=2.0 in /usr/local/lib/python3.10/dist-packages (from jinja2>=2.11.1->sweetviz) (3.0.1)\n",
            "Requirement already satisfied: contourpy>=1.0.1 in /usr/local/lib/python3.10/dist-packages (from matplotlib>=3.1.3->sweetviz) (1.3.0)\n",
            "Requirement already satisfied: cycler>=0.10 in /usr/local/lib/python3.10/dist-packages (from matplotlib>=3.1.3->sweetviz) (0.12.1)\n",
            "Requirement already satisfied: fonttools>=4.22.0 in /usr/local/lib/python3.10/dist-packages (from matplotlib>=3.1.3->sweetviz) (4.54.1)\n",
            "Requirement already satisfied: kiwisolver>=1.0.1 in /usr/local/lib/python3.10/dist-packages (from matplotlib>=3.1.3->sweetviz) (1.4.7)\n",
            "Requirement already satisfied: packaging>=20.0 in /usr/local/lib/python3.10/dist-packages (from matplotlib>=3.1.3->sweetviz) (24.1)\n",
            "Requirement already satisfied: pillow>=6.2.0 in /usr/local/lib/python3.10/dist-packages (from matplotlib>=3.1.3->sweetviz) (10.4.0)\n",
            "Requirement already satisfied: pyparsing>=2.3.1 in /usr/local/lib/python3.10/dist-packages (from matplotlib>=3.1.3->sweetviz) (3.1.4)\n",
            "Requirement already satisfied: python-dateutil>=2.7 in /usr/local/lib/python3.10/dist-packages (from matplotlib>=3.1.3->sweetviz) (2.8.2)\n",
            "Requirement already satisfied: pytz>=2020.1 in /usr/local/lib/python3.10/dist-packages (from pandas!=1.0.0,!=1.0.1,!=1.0.2,>=0.25.3->sweetviz) (2024.2)\n",
            "Requirement already satisfied: tzdata>=2022.7 in /usr/local/lib/python3.10/dist-packages (from pandas!=1.0.0,!=1.0.1,!=1.0.2,>=0.25.3->sweetviz) (2024.2)\n",
            "Requirement already satisfied: six>=1.5 in /usr/local/lib/python3.10/dist-packages (from python-dateutil>=2.7->matplotlib>=3.1.3->sweetviz) (1.16.0)\n",
            "Downloading sweetviz-2.3.1-py3-none-any.whl (15.1 MB)\n",
            "\u001b[2K   \u001b[90m━━━━━━━━━━━━━━━━━━━━━━━━━━━━━━━━━━━━━━━━\u001b[0m \u001b[32m15.1/15.1 MB\u001b[0m \u001b[31m78.7 MB/s\u001b[0m eta \u001b[36m0:00:00\u001b[0m\n",
            "\u001b[?25hInstalling collected packages: sweetviz\n",
            "Successfully installed sweetviz-2.3.1\n"
          ]
        }
      ]
    },
    {
      "cell_type": "code",
      "execution_count": null,
      "metadata": {
        "id": "IJOFaHcJPrao"
      },
      "outputs": [],
      "source": [
        "import pandas as pd  # For data manipulation and analysis\n",
        "import numpy as np  # For numerical computations\n",
        "import matplotlib.pyplot as plt  # For creating visualizations\n",
        "import seaborn as sns  # For statistical data visualization\n",
        "\n",
        "from sklearn.compose import ColumnTransformer  # For column-wise transformations\n",
        "from sklearn.pipeline import Pipeline  # For creating a data processing pipeline\n",
        "from sklearn.impute import SimpleImputer  # For imputing missing values\n",
        "from sklearn.preprocessing import MinMaxScaler  # For scaling numerical features\n",
        "from sklearn.preprocessing import OneHotEncoder  # For one-hot encoding categorical features\n",
        "from feature_engine.outliers import Winsorizer  # For outlier handling using winsorization\n",
        "\n",
        "from sklearn.model_selection import train_test_split  # For splitting data into training and testing sets\n",
        "\n",
        "import joblib  # For saving and loading objects using joblib\n",
        "import pickle  # For serializing and deserializing Python objects\n",
        "\n",
        "from sklearn import tree  # For decision tree classifier\n",
        "from sklearn.ensemble import BaggingClassifier  # For bagging classifier\n",
        "from sklearn.ensemble import RandomForestClassifier  # For random forest classifier\n",
        "from sklearn.ensemble import AdaBoostClassifier  # For AdaBoost classifier\n",
        "from sklearn.ensemble import GradientBoostingClassifier  # For gradient boosting classifier\n",
        "# pip install xgboost\n",
        "import xgboost as xgb  # For using XGBoost library for gradient boosting\n",
        "\n",
        "from sklearn.metrics import confusion_matrix  # For computing confusion matrix\n",
        "from sklearn.metrics import accuracy_score  # For computing accuracy score\n",
        "from sklearn.model_selection import cross_validate  # For cross-validation\n",
        "\n",
        "# Hyperparameter optimization\n",
        "from sklearn.model_selection import RandomizedSearchCV  # For randomized search cross-validation\n",
        "from sklearn.model_selection import GridSearchCV  # For grid search cross-validation\n",
        "\n",
        "import sklearn.metrics as skmet  # For various metrics such as accuracy score, confusion matrix, etc.\n",
        "import dtale\n",
        "import sweetviz"
      ]
    },
    {
      "cell_type": "code",
      "source": [
        "from google.colab import drive\n",
        "drive.mount('/content/drive')"
      ],
      "metadata": {
        "colab": {
          "base_uri": "https://localhost:8080/"
        },
        "id": "7AhoH8m2QoGr",
        "outputId": "69140b49-d284-4704-9ae2-b0dc81371ba2"
      },
      "execution_count": null,
      "outputs": [
        {
          "output_type": "stream",
          "name": "stdout",
          "text": [
            "Mounted at /content/drive\n"
          ]
        }
      ]
    },
    {
      "cell_type": "code",
      "source": [
        "df = pd.read_csv(r\"/content/drive/MyDrive/Retail_Business/employee satisfaction.csv\")"
      ],
      "metadata": {
        "id": "X9Ry4XfiQLnT"
      },
      "execution_count": null,
      "outputs": []
    },
    {
      "cell_type": "code",
      "source": [
        "df.head()"
      ],
      "metadata": {
        "colab": {
          "base_uri": "https://localhost:8080/",
          "height": 206
        },
        "id": "M05_T8DSRM4W",
        "outputId": "33d37e56-823f-41f8-c9fc-f6f229cb5563"
      },
      "execution_count": null,
      "outputs": [
        {
          "output_type": "execute_result",
          "data": {
            "text/plain": [
              "     emp_id  age        Dept location education    recruitment_type  \\\n",
              "0    HR8270   28          HR   Suburb        PG            Referral   \n",
              "1  TECH1860   50  Technology   Suburb        PG             Walk-in   \n",
              "2  TECH6390   43  Technology   Suburb        UG            Referral   \n",
              "3   SAL6191   44       Sales     City        PG           On-Campus   \n",
              "4    HR6734   33          HR     City        UG  Recruitment Agency   \n",
              "\n",
              "   job_level  rating  onsite  awards  certifications  salary  satisfied  \n",
              "0          5       2       0       1               0   86750          1  \n",
              "1          3       5       1       2               1   42419          0  \n",
              "2          4       1       0       2               0   65715          0  \n",
              "3          2       3       1       0               0   29805          1  \n",
              "4          2       1       0       5               0   29805          1  "
            ],
            "text/html": [
              "\n",
              "  <div id=\"df-20cefe12-c0b0-4ec2-92f3-7d5bc2ca7b8c\" class=\"colab-df-container\">\n",
              "    <div>\n",
              "<style scoped>\n",
              "    .dataframe tbody tr th:only-of-type {\n",
              "        vertical-align: middle;\n",
              "    }\n",
              "\n",
              "    .dataframe tbody tr th {\n",
              "        vertical-align: top;\n",
              "    }\n",
              "\n",
              "    .dataframe thead th {\n",
              "        text-align: right;\n",
              "    }\n",
              "</style>\n",
              "<table border=\"1\" class=\"dataframe\">\n",
              "  <thead>\n",
              "    <tr style=\"text-align: right;\">\n",
              "      <th></th>\n",
              "      <th>emp_id</th>\n",
              "      <th>age</th>\n",
              "      <th>Dept</th>\n",
              "      <th>location</th>\n",
              "      <th>education</th>\n",
              "      <th>recruitment_type</th>\n",
              "      <th>job_level</th>\n",
              "      <th>rating</th>\n",
              "      <th>onsite</th>\n",
              "      <th>awards</th>\n",
              "      <th>certifications</th>\n",
              "      <th>salary</th>\n",
              "      <th>satisfied</th>\n",
              "    </tr>\n",
              "  </thead>\n",
              "  <tbody>\n",
              "    <tr>\n",
              "      <th>0</th>\n",
              "      <td>HR8270</td>\n",
              "      <td>28</td>\n",
              "      <td>HR</td>\n",
              "      <td>Suburb</td>\n",
              "      <td>PG</td>\n",
              "      <td>Referral</td>\n",
              "      <td>5</td>\n",
              "      <td>2</td>\n",
              "      <td>0</td>\n",
              "      <td>1</td>\n",
              "      <td>0</td>\n",
              "      <td>86750</td>\n",
              "      <td>1</td>\n",
              "    </tr>\n",
              "    <tr>\n",
              "      <th>1</th>\n",
              "      <td>TECH1860</td>\n",
              "      <td>50</td>\n",
              "      <td>Technology</td>\n",
              "      <td>Suburb</td>\n",
              "      <td>PG</td>\n",
              "      <td>Walk-in</td>\n",
              "      <td>3</td>\n",
              "      <td>5</td>\n",
              "      <td>1</td>\n",
              "      <td>2</td>\n",
              "      <td>1</td>\n",
              "      <td>42419</td>\n",
              "      <td>0</td>\n",
              "    </tr>\n",
              "    <tr>\n",
              "      <th>2</th>\n",
              "      <td>TECH6390</td>\n",
              "      <td>43</td>\n",
              "      <td>Technology</td>\n",
              "      <td>Suburb</td>\n",
              "      <td>UG</td>\n",
              "      <td>Referral</td>\n",
              "      <td>4</td>\n",
              "      <td>1</td>\n",
              "      <td>0</td>\n",
              "      <td>2</td>\n",
              "      <td>0</td>\n",
              "      <td>65715</td>\n",
              "      <td>0</td>\n",
              "    </tr>\n",
              "    <tr>\n",
              "      <th>3</th>\n",
              "      <td>SAL6191</td>\n",
              "      <td>44</td>\n",
              "      <td>Sales</td>\n",
              "      <td>City</td>\n",
              "      <td>PG</td>\n",
              "      <td>On-Campus</td>\n",
              "      <td>2</td>\n",
              "      <td>3</td>\n",
              "      <td>1</td>\n",
              "      <td>0</td>\n",
              "      <td>0</td>\n",
              "      <td>29805</td>\n",
              "      <td>1</td>\n",
              "    </tr>\n",
              "    <tr>\n",
              "      <th>4</th>\n",
              "      <td>HR6734</td>\n",
              "      <td>33</td>\n",
              "      <td>HR</td>\n",
              "      <td>City</td>\n",
              "      <td>UG</td>\n",
              "      <td>Recruitment Agency</td>\n",
              "      <td>2</td>\n",
              "      <td>1</td>\n",
              "      <td>0</td>\n",
              "      <td>5</td>\n",
              "      <td>0</td>\n",
              "      <td>29805</td>\n",
              "      <td>1</td>\n",
              "    </tr>\n",
              "  </tbody>\n",
              "</table>\n",
              "</div>\n",
              "    <div class=\"colab-df-buttons\">\n",
              "\n",
              "  <div class=\"colab-df-container\">\n",
              "    <button class=\"colab-df-convert\" onclick=\"convertToInteractive('df-20cefe12-c0b0-4ec2-92f3-7d5bc2ca7b8c')\"\n",
              "            title=\"Convert this dataframe to an interactive table.\"\n",
              "            style=\"display:none;\">\n",
              "\n",
              "  <svg xmlns=\"http://www.w3.org/2000/svg\" height=\"24px\" viewBox=\"0 -960 960 960\">\n",
              "    <path d=\"M120-120v-720h720v720H120Zm60-500h600v-160H180v160Zm220 220h160v-160H400v160Zm0 220h160v-160H400v160ZM180-400h160v-160H180v160Zm440 0h160v-160H620v160ZM180-180h160v-160H180v160Zm440 0h160v-160H620v160Z\"/>\n",
              "  </svg>\n",
              "    </button>\n",
              "\n",
              "  <style>\n",
              "    .colab-df-container {\n",
              "      display:flex;\n",
              "      gap: 12px;\n",
              "    }\n",
              "\n",
              "    .colab-df-convert {\n",
              "      background-color: #E8F0FE;\n",
              "      border: none;\n",
              "      border-radius: 50%;\n",
              "      cursor: pointer;\n",
              "      display: none;\n",
              "      fill: #1967D2;\n",
              "      height: 32px;\n",
              "      padding: 0 0 0 0;\n",
              "      width: 32px;\n",
              "    }\n",
              "\n",
              "    .colab-df-convert:hover {\n",
              "      background-color: #E2EBFA;\n",
              "      box-shadow: 0px 1px 2px rgba(60, 64, 67, 0.3), 0px 1px 3px 1px rgba(60, 64, 67, 0.15);\n",
              "      fill: #174EA6;\n",
              "    }\n",
              "\n",
              "    .colab-df-buttons div {\n",
              "      margin-bottom: 4px;\n",
              "    }\n",
              "\n",
              "    [theme=dark] .colab-df-convert {\n",
              "      background-color: #3B4455;\n",
              "      fill: #D2E3FC;\n",
              "    }\n",
              "\n",
              "    [theme=dark] .colab-df-convert:hover {\n",
              "      background-color: #434B5C;\n",
              "      box-shadow: 0px 1px 3px 1px rgba(0, 0, 0, 0.15);\n",
              "      filter: drop-shadow(0px 1px 2px rgba(0, 0, 0, 0.3));\n",
              "      fill: #FFFFFF;\n",
              "    }\n",
              "  </style>\n",
              "\n",
              "    <script>\n",
              "      const buttonEl =\n",
              "        document.querySelector('#df-20cefe12-c0b0-4ec2-92f3-7d5bc2ca7b8c button.colab-df-convert');\n",
              "      buttonEl.style.display =\n",
              "        google.colab.kernel.accessAllowed ? 'block' : 'none';\n",
              "\n",
              "      async function convertToInteractive(key) {\n",
              "        const element = document.querySelector('#df-20cefe12-c0b0-4ec2-92f3-7d5bc2ca7b8c');\n",
              "        const dataTable =\n",
              "          await google.colab.kernel.invokeFunction('convertToInteractive',\n",
              "                                                    [key], {});\n",
              "        if (!dataTable) return;\n",
              "\n",
              "        const docLinkHtml = 'Like what you see? Visit the ' +\n",
              "          '<a target=\"_blank\" href=https://colab.research.google.com/notebooks/data_table.ipynb>data table notebook</a>'\n",
              "          + ' to learn more about interactive tables.';\n",
              "        element.innerHTML = '';\n",
              "        dataTable['output_type'] = 'display_data';\n",
              "        await google.colab.output.renderOutput(dataTable, element);\n",
              "        const docLink = document.createElement('div');\n",
              "        docLink.innerHTML = docLinkHtml;\n",
              "        element.appendChild(docLink);\n",
              "      }\n",
              "    </script>\n",
              "  </div>\n",
              "\n",
              "\n",
              "<div id=\"df-66ee885f-2bb6-4358-af0f-b4b329f44d43\">\n",
              "  <button class=\"colab-df-quickchart\" onclick=\"quickchart('df-66ee885f-2bb6-4358-af0f-b4b329f44d43')\"\n",
              "            title=\"Suggest charts\"\n",
              "            style=\"display:none;\">\n",
              "\n",
              "<svg xmlns=\"http://www.w3.org/2000/svg\" height=\"24px\"viewBox=\"0 0 24 24\"\n",
              "     width=\"24px\">\n",
              "    <g>\n",
              "        <path d=\"M19 3H5c-1.1 0-2 .9-2 2v14c0 1.1.9 2 2 2h14c1.1 0 2-.9 2-2V5c0-1.1-.9-2-2-2zM9 17H7v-7h2v7zm4 0h-2V7h2v10zm4 0h-2v-4h2v4z\"/>\n",
              "    </g>\n",
              "</svg>\n",
              "  </button>\n",
              "\n",
              "<style>\n",
              "  .colab-df-quickchart {\n",
              "      --bg-color: #E8F0FE;\n",
              "      --fill-color: #1967D2;\n",
              "      --hover-bg-color: #E2EBFA;\n",
              "      --hover-fill-color: #174EA6;\n",
              "      --disabled-fill-color: #AAA;\n",
              "      --disabled-bg-color: #DDD;\n",
              "  }\n",
              "\n",
              "  [theme=dark] .colab-df-quickchart {\n",
              "      --bg-color: #3B4455;\n",
              "      --fill-color: #D2E3FC;\n",
              "      --hover-bg-color: #434B5C;\n",
              "      --hover-fill-color: #FFFFFF;\n",
              "      --disabled-bg-color: #3B4455;\n",
              "      --disabled-fill-color: #666;\n",
              "  }\n",
              "\n",
              "  .colab-df-quickchart {\n",
              "    background-color: var(--bg-color);\n",
              "    border: none;\n",
              "    border-radius: 50%;\n",
              "    cursor: pointer;\n",
              "    display: none;\n",
              "    fill: var(--fill-color);\n",
              "    height: 32px;\n",
              "    padding: 0;\n",
              "    width: 32px;\n",
              "  }\n",
              "\n",
              "  .colab-df-quickchart:hover {\n",
              "    background-color: var(--hover-bg-color);\n",
              "    box-shadow: 0 1px 2px rgba(60, 64, 67, 0.3), 0 1px 3px 1px rgba(60, 64, 67, 0.15);\n",
              "    fill: var(--button-hover-fill-color);\n",
              "  }\n",
              "\n",
              "  .colab-df-quickchart-complete:disabled,\n",
              "  .colab-df-quickchart-complete:disabled:hover {\n",
              "    background-color: var(--disabled-bg-color);\n",
              "    fill: var(--disabled-fill-color);\n",
              "    box-shadow: none;\n",
              "  }\n",
              "\n",
              "  .colab-df-spinner {\n",
              "    border: 2px solid var(--fill-color);\n",
              "    border-color: transparent;\n",
              "    border-bottom-color: var(--fill-color);\n",
              "    animation:\n",
              "      spin 1s steps(1) infinite;\n",
              "  }\n",
              "\n",
              "  @keyframes spin {\n",
              "    0% {\n",
              "      border-color: transparent;\n",
              "      border-bottom-color: var(--fill-color);\n",
              "      border-left-color: var(--fill-color);\n",
              "    }\n",
              "    20% {\n",
              "      border-color: transparent;\n",
              "      border-left-color: var(--fill-color);\n",
              "      border-top-color: var(--fill-color);\n",
              "    }\n",
              "    30% {\n",
              "      border-color: transparent;\n",
              "      border-left-color: var(--fill-color);\n",
              "      border-top-color: var(--fill-color);\n",
              "      border-right-color: var(--fill-color);\n",
              "    }\n",
              "    40% {\n",
              "      border-color: transparent;\n",
              "      border-right-color: var(--fill-color);\n",
              "      border-top-color: var(--fill-color);\n",
              "    }\n",
              "    60% {\n",
              "      border-color: transparent;\n",
              "      border-right-color: var(--fill-color);\n",
              "    }\n",
              "    80% {\n",
              "      border-color: transparent;\n",
              "      border-right-color: var(--fill-color);\n",
              "      border-bottom-color: var(--fill-color);\n",
              "    }\n",
              "    90% {\n",
              "      border-color: transparent;\n",
              "      border-bottom-color: var(--fill-color);\n",
              "    }\n",
              "  }\n",
              "</style>\n",
              "\n",
              "  <script>\n",
              "    async function quickchart(key) {\n",
              "      const quickchartButtonEl =\n",
              "        document.querySelector('#' + key + ' button');\n",
              "      quickchartButtonEl.disabled = true;  // To prevent multiple clicks.\n",
              "      quickchartButtonEl.classList.add('colab-df-spinner');\n",
              "      try {\n",
              "        const charts = await google.colab.kernel.invokeFunction(\n",
              "            'suggestCharts', [key], {});\n",
              "      } catch (error) {\n",
              "        console.error('Error during call to suggestCharts:', error);\n",
              "      }\n",
              "      quickchartButtonEl.classList.remove('colab-df-spinner');\n",
              "      quickchartButtonEl.classList.add('colab-df-quickchart-complete');\n",
              "    }\n",
              "    (() => {\n",
              "      let quickchartButtonEl =\n",
              "        document.querySelector('#df-66ee885f-2bb6-4358-af0f-b4b329f44d43 button');\n",
              "      quickchartButtonEl.style.display =\n",
              "        google.colab.kernel.accessAllowed ? 'block' : 'none';\n",
              "    })();\n",
              "  </script>\n",
              "</div>\n",
              "\n",
              "    </div>\n",
              "  </div>\n"
            ],
            "application/vnd.google.colaboratory.intrinsic+json": {
              "type": "dataframe",
              "variable_name": "df",
              "summary": "{\n  \"name\": \"df\",\n  \"rows\": 500,\n  \"fields\": [\n    {\n      \"column\": \"emp_id\",\n      \"properties\": {\n        \"dtype\": \"string\",\n        \"num_unique_values\": 499,\n        \"samples\": [\n          \"SAL1728\",\n          \"MKT9571\",\n          \"SAL9445\"\n        ],\n        \"semantic_type\": \"\",\n        \"description\": \"\"\n      }\n    },\n    {\n      \"column\": \"age\",\n      \"properties\": {\n        \"dtype\": \"number\",\n        \"std\": 9,\n        \"min\": 23,\n        \"max\": 54,\n        \"num_unique_values\": 32,\n        \"samples\": [\n          32,\n          54,\n          29\n        ],\n        \"semantic_type\": \"\",\n        \"description\": \"\"\n      }\n    },\n    {\n      \"column\": \"Dept\",\n      \"properties\": {\n        \"dtype\": \"category\",\n        \"num_unique_values\": 5,\n        \"samples\": [\n          \"Technology\",\n          \"Marketing\",\n          \"Sales\"\n        ],\n        \"semantic_type\": \"\",\n        \"description\": \"\"\n      }\n    },\n    {\n      \"column\": \"location\",\n      \"properties\": {\n        \"dtype\": \"category\",\n        \"num_unique_values\": 2,\n        \"samples\": [\n          \"City\",\n          \"Suburb\"\n        ],\n        \"semantic_type\": \"\",\n        \"description\": \"\"\n      }\n    },\n    {\n      \"column\": \"education\",\n      \"properties\": {\n        \"dtype\": \"category\",\n        \"num_unique_values\": 2,\n        \"samples\": [\n          \"UG\",\n          \"PG\"\n        ],\n        \"semantic_type\": \"\",\n        \"description\": \"\"\n      }\n    },\n    {\n      \"column\": \"recruitment_type\",\n      \"properties\": {\n        \"dtype\": \"category\",\n        \"num_unique_values\": 4,\n        \"samples\": [\n          \"Walk-in\",\n          \"Recruitment Agency\"\n        ],\n        \"semantic_type\": \"\",\n        \"description\": \"\"\n      }\n    },\n    {\n      \"column\": \"job_level\",\n      \"properties\": {\n        \"dtype\": \"number\",\n        \"std\": 1,\n        \"min\": 1,\n        \"max\": 5,\n        \"num_unique_values\": 5,\n        \"samples\": [\n          3,\n          1\n        ],\n        \"semantic_type\": \"\",\n        \"description\": \"\"\n      }\n    },\n    {\n      \"column\": \"rating\",\n      \"properties\": {\n        \"dtype\": \"number\",\n        \"std\": 1,\n        \"min\": 1,\n        \"max\": 5,\n        \"num_unique_values\": 5,\n        \"samples\": [\n          5,\n          4\n        ],\n        \"semantic_type\": \"\",\n        \"description\": \"\"\n      }\n    },\n    {\n      \"column\": \"onsite\",\n      \"properties\": {\n        \"dtype\": \"number\",\n        \"std\": 0,\n        \"min\": 0,\n        \"max\": 1,\n        \"num_unique_values\": 2,\n        \"samples\": [\n          1,\n          0\n        ],\n        \"semantic_type\": \"\",\n        \"description\": \"\"\n      }\n    },\n    {\n      \"column\": \"awards\",\n      \"properties\": {\n        \"dtype\": \"number\",\n        \"std\": 2,\n        \"min\": 0,\n        \"max\": 9,\n        \"num_unique_values\": 10,\n        \"samples\": [\n          8,\n          2\n        ],\n        \"semantic_type\": \"\",\n        \"description\": \"\"\n      }\n    },\n    {\n      \"column\": \"certifications\",\n      \"properties\": {\n        \"dtype\": \"number\",\n        \"std\": 0,\n        \"min\": 0,\n        \"max\": 1,\n        \"num_unique_values\": 2,\n        \"samples\": [\n          1,\n          0\n        ],\n        \"semantic_type\": \"\",\n        \"description\": \"\"\n      }\n    },\n    {\n      \"column\": \"salary\",\n      \"properties\": {\n        \"dtype\": \"number\",\n        \"std\": 23671,\n        \"min\": 24076,\n        \"max\": 86750,\n        \"num_unique_values\": 5,\n        \"samples\": [\n          42419,\n          24076\n        ],\n        \"semantic_type\": \"\",\n        \"description\": \"\"\n      }\n    },\n    {\n      \"column\": \"satisfied\",\n      \"properties\": {\n        \"dtype\": \"number\",\n        \"std\": 0,\n        \"min\": 0,\n        \"max\": 1,\n        \"num_unique_values\": 2,\n        \"samples\": [\n          0,\n          1\n        ],\n        \"semantic_type\": \"\",\n        \"description\": \"\"\n      }\n    }\n  ]\n}"
            }
          },
          "metadata": {},
          "execution_count": 10
        }
      ]
    },
    {
      "cell_type": "code",
      "source": [
        "df.info()\n"
      ],
      "metadata": {
        "colab": {
          "base_uri": "https://localhost:8080/"
        },
        "id": "UuV3zQ1yRM02",
        "outputId": "4bed7bca-a4df-4486-b522-9b02b699159c"
      },
      "execution_count": null,
      "outputs": [
        {
          "output_type": "stream",
          "name": "stdout",
          "text": [
            "<class 'pandas.core.frame.DataFrame'>\n",
            "RangeIndex: 500 entries, 0 to 499\n",
            "Data columns (total 13 columns):\n",
            " #   Column            Non-Null Count  Dtype \n",
            "---  ------            --------------  ----- \n",
            " 0   emp_id            500 non-null    object\n",
            " 1   age               500 non-null    int64 \n",
            " 2   Dept              500 non-null    object\n",
            " 3   location          500 non-null    object\n",
            " 4   education         500 non-null    object\n",
            " 5   recruitment_type  500 non-null    object\n",
            " 6   job_level         500 non-null    int64 \n",
            " 7   rating            500 non-null    int64 \n",
            " 8   onsite            500 non-null    int64 \n",
            " 9   awards            500 non-null    int64 \n",
            " 10  certifications    500 non-null    int64 \n",
            " 11  salary            500 non-null    int64 \n",
            " 12  satisfied         500 non-null    int64 \n",
            "dtypes: int64(8), object(5)\n",
            "memory usage: 50.9+ KB\n"
          ]
        }
      ]
    },
    {
      "cell_type": "code",
      "source": [
        "d = dtale.show(df)"
      ],
      "metadata": {
        "id": "4g6M5UlkRMyN"
      },
      "execution_count": null,
      "outputs": []
    },
    {
      "cell_type": "code",
      "source": [
        "d.open_browser()"
      ],
      "metadata": {
        "id": "Ttjfb0hkRMvY"
      },
      "execution_count": null,
      "outputs": []
    },
    {
      "cell_type": "code",
      "source": [
        "my_report = sweetviz.analyze(df)"
      ],
      "metadata": {
        "colab": {
          "base_uri": "https://localhost:8080/",
          "height": 49,
          "referenced_widgets": [
            "e28172fe30e94576aeb0d4d268374db8",
            "67854da628084e4c916b6a0cf9f902e8",
            "904b9e4a4d234dd49c7541fbb04fa354",
            "9b456f2d0c454f57b1280f338438585a",
            "072b8fbaf0534540aae859419bd7f774",
            "cd3893cafcf848dfa7a686cb168dc959",
            "0b2ad8ff4f4d48a0b476af27f0ab4d73",
            "88bfd75cfd3f41979244957580706eb2",
            "e4b222fd16554027b6307374b9b7cbe1",
            "4f857ce277d74a52b3b3bbd961ff0edd",
            "18fbe29857ad45d38353e0fb4467f6cf"
          ]
        },
        "id": "-l4E1kS7RMtJ",
        "outputId": "855be769-2a78-4c72-dc13-d4d303b785ec"
      },
      "execution_count": null,
      "outputs": [
        {
          "output_type": "display_data",
          "data": {
            "text/plain": [
              "                                             |          | [  0%]   00:00 -> (? left)"
            ],
            "application/vnd.jupyter.widget-view+json": {
              "version_major": 2,
              "version_minor": 0,
              "model_id": "e28172fe30e94576aeb0d4d268374db8"
            }
          },
          "metadata": {}
        }
      ]
    },
    {
      "cell_type": "code",
      "source": [
        "my_report.show_html('Report1.html')\n"
      ],
      "metadata": {
        "colab": {
          "base_uri": "https://localhost:8080/"
        },
        "id": "xbUqvZG1RMq8",
        "outputId": "4e64d5ef-8ef1-4e37-d091-5e3e2c617c9f"
      },
      "execution_count": null,
      "outputs": [
        {
          "output_type": "stream",
          "name": "stdout",
          "text": [
            "Report Report1.html was generated! NOTEBOOK/COLAB USERS: the web browser MAY not pop up, regardless, the report IS saved in your notebook/colab files.\n"
          ]
        }
      ]
    },
    {
      "cell_type": "code",
      "source": [
        "!ls\n"
      ],
      "metadata": {
        "colab": {
          "base_uri": "https://localhost:8080/"
        },
        "id": "gmTLTystRMpC",
        "outputId": "0e958d99-3803-4d40-8c16-be30befea504"
      },
      "execution_count": null,
      "outputs": [
        {
          "output_type": "stream",
          "name": "stdout",
          "text": [
            "drive  Report1.html  sample_data\n"
          ]
        }
      ]
    },
    {
      "cell_type": "code",
      "source": [
        "# Input and Output Split\n",
        "predictors = df.loc[:, df.columns != \"satisfied\"]  # Extracting predictor variables by excluding the column \"Oscar\"\n",
        "type(predictors)  # Checking the data type of the predictors DataFrame\n",
        "\n",
        "target = df[\"satisfied\"]  # Extracting the target variable (\"Oscar\" column)\n",
        "type(target)  # Checking the data type of the target Series\n",
        "\n",
        "target #Print Target Value"
      ],
      "metadata": {
        "colab": {
          "base_uri": "https://localhost:8080/",
          "height": 458
        },
        "id": "W9V7fYWxRMl2",
        "outputId": "618c7552-dc28-4881-936c-0c453606ff17"
      },
      "execution_count": null,
      "outputs": [
        {
          "output_type": "execute_result",
          "data": {
            "text/plain": [
              "0      1\n",
              "1      0\n",
              "2      0\n",
              "3      1\n",
              "4      1\n",
              "      ..\n",
              "495    1\n",
              "496    0\n",
              "497    1\n",
              "498    0\n",
              "499    0\n",
              "Name: satisfied, Length: 500, dtype: int64"
            ],
            "text/html": [
              "<div>\n",
              "<style scoped>\n",
              "    .dataframe tbody tr th:only-of-type {\n",
              "        vertical-align: middle;\n",
              "    }\n",
              "\n",
              "    .dataframe tbody tr th {\n",
              "        vertical-align: top;\n",
              "    }\n",
              "\n",
              "    .dataframe thead th {\n",
              "        text-align: right;\n",
              "    }\n",
              "</style>\n",
              "<table border=\"1\" class=\"dataframe\">\n",
              "  <thead>\n",
              "    <tr style=\"text-align: right;\">\n",
              "      <th></th>\n",
              "      <th>satisfied</th>\n",
              "    </tr>\n",
              "  </thead>\n",
              "  <tbody>\n",
              "    <tr>\n",
              "      <th>0</th>\n",
              "      <td>1</td>\n",
              "    </tr>\n",
              "    <tr>\n",
              "      <th>1</th>\n",
              "      <td>0</td>\n",
              "    </tr>\n",
              "    <tr>\n",
              "      <th>2</th>\n",
              "      <td>0</td>\n",
              "    </tr>\n",
              "    <tr>\n",
              "      <th>3</th>\n",
              "      <td>1</td>\n",
              "    </tr>\n",
              "    <tr>\n",
              "      <th>4</th>\n",
              "      <td>1</td>\n",
              "    </tr>\n",
              "    <tr>\n",
              "      <th>...</th>\n",
              "      <td>...</td>\n",
              "    </tr>\n",
              "    <tr>\n",
              "      <th>495</th>\n",
              "      <td>1</td>\n",
              "    </tr>\n",
              "    <tr>\n",
              "      <th>496</th>\n",
              "      <td>0</td>\n",
              "    </tr>\n",
              "    <tr>\n",
              "      <th>497</th>\n",
              "      <td>1</td>\n",
              "    </tr>\n",
              "    <tr>\n",
              "      <th>498</th>\n",
              "      <td>0</td>\n",
              "    </tr>\n",
              "    <tr>\n",
              "      <th>499</th>\n",
              "      <td>0</td>\n",
              "    </tr>\n",
              "  </tbody>\n",
              "</table>\n",
              "<p>500 rows × 1 columns</p>\n",
              "</div><br><label><b>dtype:</b> int64</label>"
            ]
          },
          "metadata": {},
          "execution_count": 29
        }
      ]
    },
    {
      "cell_type": "code",
      "source": [
        "# Segregating Non-Numeric features\n",
        "categorical_features = predictors.select_dtypes(include=['object']).columns  # Selecting columns with object dtype as categorical features\n",
        "categorical_features  # Displaying the names of categorical features"
      ],
      "metadata": {
        "colab": {
          "base_uri": "https://localhost:8080/"
        },
        "id": "nfB21PPnRMjD",
        "outputId": "98e00c54-60c7-4597-a0d7-2fb3b2d64a28"
      },
      "execution_count": null,
      "outputs": [
        {
          "output_type": "execute_result",
          "data": {
            "text/plain": [
              "Index(['emp_id', 'Dept', 'location', 'education', 'recruitment_type'], dtype='object')"
            ]
          },
          "metadata": {},
          "execution_count": 30
        }
      ]
    },
    {
      "cell_type": "code",
      "source": [
        "# Segregating Numeric features\n",
        "numeric_features = predictors.select_dtypes(exclude=['object']).columns  # Selecting columns with non-object dtype as numeric features\n",
        "numeric_features  # Displaying the names of numeric features"
      ],
      "metadata": {
        "colab": {
          "base_uri": "https://localhost:8080/"
        },
        "id": "h7CAP203RMgw",
        "outputId": "968e4f06-aa99-440a-ef38-78b035265e8a"
      },
      "execution_count": null,
      "outputs": [
        {
          "output_type": "execute_result",
          "data": {
            "text/plain": [
              "Index(['age', 'job_level', 'rating', 'onsite', 'awards', 'certifications',\n",
              "       'salary'],\n",
              "      dtype='object')"
            ]
          },
          "metadata": {},
          "execution_count": 31
        }
      ]
    },
    {
      "cell_type": "code",
      "source": [
        "# Checking for missing values in the DataFrame\n",
        "df.isnull().sum()"
      ],
      "metadata": {
        "colab": {
          "base_uri": "https://localhost:8080/",
          "height": 492
        },
        "id": "g3b9Cig7RMdo",
        "outputId": "d090e530-ad42-480a-ac6f-66aa2d881660"
      },
      "execution_count": null,
      "outputs": [
        {
          "output_type": "execute_result",
          "data": {
            "text/plain": [
              "emp_id              0\n",
              "age                 0\n",
              "Dept                0\n",
              "location            0\n",
              "education           0\n",
              "recruitment_type    0\n",
              "job_level           0\n",
              "rating              0\n",
              "onsite              0\n",
              "awards              0\n",
              "certifications      0\n",
              "salary              0\n",
              "satisfied           0\n",
              "dtype: int64"
            ],
            "text/html": [
              "<div>\n",
              "<style scoped>\n",
              "    .dataframe tbody tr th:only-of-type {\n",
              "        vertical-align: middle;\n",
              "    }\n",
              "\n",
              "    .dataframe tbody tr th {\n",
              "        vertical-align: top;\n",
              "    }\n",
              "\n",
              "    .dataframe thead th {\n",
              "        text-align: right;\n",
              "    }\n",
              "</style>\n",
              "<table border=\"1\" class=\"dataframe\">\n",
              "  <thead>\n",
              "    <tr style=\"text-align: right;\">\n",
              "      <th></th>\n",
              "      <th>0</th>\n",
              "    </tr>\n",
              "  </thead>\n",
              "  <tbody>\n",
              "    <tr>\n",
              "      <th>emp_id</th>\n",
              "      <td>0</td>\n",
              "    </tr>\n",
              "    <tr>\n",
              "      <th>age</th>\n",
              "      <td>0</td>\n",
              "    </tr>\n",
              "    <tr>\n",
              "      <th>Dept</th>\n",
              "      <td>0</td>\n",
              "    </tr>\n",
              "    <tr>\n",
              "      <th>location</th>\n",
              "      <td>0</td>\n",
              "    </tr>\n",
              "    <tr>\n",
              "      <th>education</th>\n",
              "      <td>0</td>\n",
              "    </tr>\n",
              "    <tr>\n",
              "      <th>recruitment_type</th>\n",
              "      <td>0</td>\n",
              "    </tr>\n",
              "    <tr>\n",
              "      <th>job_level</th>\n",
              "      <td>0</td>\n",
              "    </tr>\n",
              "    <tr>\n",
              "      <th>rating</th>\n",
              "      <td>0</td>\n",
              "    </tr>\n",
              "    <tr>\n",
              "      <th>onsite</th>\n",
              "      <td>0</td>\n",
              "    </tr>\n",
              "    <tr>\n",
              "      <th>awards</th>\n",
              "      <td>0</td>\n",
              "    </tr>\n",
              "    <tr>\n",
              "      <th>certifications</th>\n",
              "      <td>0</td>\n",
              "    </tr>\n",
              "    <tr>\n",
              "      <th>salary</th>\n",
              "      <td>0</td>\n",
              "    </tr>\n",
              "    <tr>\n",
              "      <th>satisfied</th>\n",
              "      <td>0</td>\n",
              "    </tr>\n",
              "  </tbody>\n",
              "</table>\n",
              "</div><br><label><b>dtype:</b> int64</label>"
            ]
          },
          "metadata": {},
          "execution_count": 32
        }
      ]
    },
    {
      "cell_type": "code",
      "source": [
        "# Define pipeline for handling missing data using mean imputation and scaling\n",
        "num_pipeline = Pipeline(steps=[('impute', SimpleImputer(strategy='mean')), ('scale', MinMaxScaler())])"
      ],
      "metadata": {
        "id": "44EytD3BRMbz"
      },
      "execution_count": null,
      "outputs": []
    },
    {
      "cell_type": "code",
      "source": [
        "# Check unique values and value counts of categorical features\n",
        "print(predictors['emp_id'].unique().size)\n",
        "print(predictors['emp_id'].value_counts())\n",
        "print(predictors['Dept'].unique().size)\n",
        "print(predictors['Dept'].value_counts())\n",
        "print(predictors['location'].unique().size)\n",
        "print(predictors['location'].value_counts())\n",
        "print(predictors['education'].unique().size)\n",
        "print(predictors['education'].value_counts())\n",
        "print(predictors['recruitment_type'].unique().size)\n",
        "print(predictors['recruitment_type'].value_counts())"
      ],
      "metadata": {
        "colab": {
          "base_uri": "https://localhost:8080/"
        },
        "id": "cm8d4nMpRMYy",
        "outputId": "79c63ab2-3bc4-46dc-d008-bfbcb1dcdbd9"
      },
      "execution_count": null,
      "outputs": [
        {
          "output_type": "stream",
          "name": "stdout",
          "text": [
            "499\n",
            "emp_id\n",
            "MKT7287     2\n",
            "SAL6919     1\n",
            "MKT6691     1\n",
            "PUR4124     1\n",
            "SAL3491     1\n",
            "           ..\n",
            "MKT2636     1\n",
            "MKT8280     1\n",
            "TECH8554    1\n",
            "TECH4581    1\n",
            "TECH7731    1\n",
            "Name: count, Length: 499, dtype: int64\n",
            "5\n",
            "Dept\n",
            "Purchasing    109\n",
            "HR            106\n",
            "Technology     98\n",
            "Marketing      95\n",
            "Sales          92\n",
            "Name: count, dtype: int64\n",
            "2\n",
            "location\n",
            "City      259\n",
            "Suburb    241\n",
            "Name: count, dtype: int64\n",
            "2\n",
            "education\n",
            "PG    254\n",
            "UG    246\n",
            "Name: count, dtype: int64\n",
            "4\n",
            "recruitment_type\n",
            "On-Campus             133\n",
            "Referral              131\n",
            "Walk-in               128\n",
            "Recruitment Agency    108\n",
            "Name: count, dtype: int64\n"
          ]
        }
      ]
    },
    {
      "cell_type": "code",
      "source": [
        "# Define pipeline for encoding categorical features using OneHotEncoder\n",
        "encoding_pipeline = Pipeline([('onehot', OneHotEncoder(drop='first', sparse_output = False))])\n"
      ],
      "metadata": {
        "id": "wOel6fV5RMSR"
      },
      "execution_count": null,
      "outputs": []
    },
    {
      "cell_type": "code",
      "source": [
        "# Define column transformer to apply the encoding_pipeline to categorical features\n",
        "preprocess_pipeline = ColumnTransformer([('numerical', num_pipeline, numeric_features),('categorical', encoding_pipeline, categorical_features)])\n",
        "ise = preprocess_pipeline.fit(predictors)"
      ],
      "metadata": {
        "id": "krfguG3eRMPy"
      },
      "execution_count": null,
      "outputs": []
    },
    {
      "cell_type": "code",
      "source": [
        "# Save the scaling transformer for future use\n",
        "joblib.dump(ise, 'ise') # imputation, scaling and encoding\n",
        "\n",
        "# Transform the cleaned data to obtain scaled data\n",
        "clean_data = pd.DataFrame(ise.transform(predictors), columns=ise.get_feature_names_out())\n",
        "# Check for missing values in the clean data\n",
        "clean_data.isnull().sum()"
      ],
      "metadata": {
        "colab": {
          "base_uri": "https://localhost:8080/",
          "height": 458
        },
        "id": "SAheIivgRMNq",
        "outputId": "c0be2f5b-d475-4e8c-f814-f8d03af8bc64"
      },
      "execution_count": null,
      "outputs": [
        {
          "output_type": "execute_result",
          "data": {
            "text/plain": [
              "numerical__age                                      0\n",
              "numerical__job_level                                0\n",
              "numerical__rating                                   0\n",
              "numerical__onsite                                   0\n",
              "numerical__awards                                   0\n",
              "                                                   ..\n",
              "categorical__location_Suburb                        0\n",
              "categorical__education_UG                           0\n",
              "categorical__recruitment_type_Recruitment Agency    0\n",
              "categorical__recruitment_type_Referral              0\n",
              "categorical__recruitment_type_Walk-in               0\n",
              "Length: 514, dtype: int64"
            ],
            "text/html": [
              "<div>\n",
              "<style scoped>\n",
              "    .dataframe tbody tr th:only-of-type {\n",
              "        vertical-align: middle;\n",
              "    }\n",
              "\n",
              "    .dataframe tbody tr th {\n",
              "        vertical-align: top;\n",
              "    }\n",
              "\n",
              "    .dataframe thead th {\n",
              "        text-align: right;\n",
              "    }\n",
              "</style>\n",
              "<table border=\"1\" class=\"dataframe\">\n",
              "  <thead>\n",
              "    <tr style=\"text-align: right;\">\n",
              "      <th></th>\n",
              "      <th>0</th>\n",
              "    </tr>\n",
              "  </thead>\n",
              "  <tbody>\n",
              "    <tr>\n",
              "      <th>numerical__age</th>\n",
              "      <td>0</td>\n",
              "    </tr>\n",
              "    <tr>\n",
              "      <th>numerical__job_level</th>\n",
              "      <td>0</td>\n",
              "    </tr>\n",
              "    <tr>\n",
              "      <th>numerical__rating</th>\n",
              "      <td>0</td>\n",
              "    </tr>\n",
              "    <tr>\n",
              "      <th>numerical__onsite</th>\n",
              "      <td>0</td>\n",
              "    </tr>\n",
              "    <tr>\n",
              "      <th>numerical__awards</th>\n",
              "      <td>0</td>\n",
              "    </tr>\n",
              "    <tr>\n",
              "      <th>...</th>\n",
              "      <td>...</td>\n",
              "    </tr>\n",
              "    <tr>\n",
              "      <th>categorical__location_Suburb</th>\n",
              "      <td>0</td>\n",
              "    </tr>\n",
              "    <tr>\n",
              "      <th>categorical__education_UG</th>\n",
              "      <td>0</td>\n",
              "    </tr>\n",
              "    <tr>\n",
              "      <th>categorical__recruitment_type_Recruitment Agency</th>\n",
              "      <td>0</td>\n",
              "    </tr>\n",
              "    <tr>\n",
              "      <th>categorical__recruitment_type_Referral</th>\n",
              "      <td>0</td>\n",
              "    </tr>\n",
              "    <tr>\n",
              "      <th>categorical__recruitment_type_Walk-in</th>\n",
              "      <td>0</td>\n",
              "    </tr>\n",
              "  </tbody>\n",
              "</table>\n",
              "<p>514 rows × 1 columns</p>\n",
              "</div><br><label><b>dtype:</b> int64</label>"
            ]
          },
          "metadata": {},
          "execution_count": 39
        }
      ]
    },
    {
      "cell_type": "code",
      "source": [
        "ax = clean_data.iloc[:,:13].plot(kind = 'box', subplots = True, sharey = False, figsize = (25, 18))"
      ],
      "metadata": {
        "colab": {
          "base_uri": "https://localhost:8080/",
          "height": 1000
        },
        "id": "jCSXqjERRMLe",
        "outputId": "0e852705-51b2-4323-d5b8-f5f85d79d1a3"
      },
      "execution_count": null,
      "outputs": [
        {
          "output_type": "display_data",
          "data": {
            "text/plain": [
              "<Figure size 2500x1800 with 13 Axes>"
            ],
            "image/png": "[encoded data removed]"
          },
          "metadata": {}
        }
      ]
    },
    {
      "cell_type": "code",
      "source": [
        "for subplot in ax:\n",
        "    subplot.set_xticklabels(subplot.get_xticklabels(), rotation=90, fontsize=21)\n",
        "# Adjust the spacing between subplots\n",
        "plt.subplots_adjust(wspace=0.9)\n",
        "# Show the plot\n",
        "plt.show()"
      ],
      "metadata": {
        "colab": {
          "base_uri": "https://localhost:8080/",
          "height": 35
        },
        "id": "XU6j4--4RMJp",
        "outputId": "e328c5e9-65b8-4b32-9118-b5f449585851"
      },
      "execution_count": null,
      "outputs": [
        {
          "output_type": "display_data",
          "data": {
            "text/plain": [
              "<Figure size 640x480 with 0 Axes>"
            ]
          },
          "metadata": {}
        }
      ]
    },
    {
      "cell_type": "code",
      "source": [
        "# Define Winsorizer with specified parameters\n",
        "winsor = Winsorizer(capping_method='iqr',  # Use IQR rule boundaries\n",
        "                    tail='both',  # Cap both tails\n",
        "                    fold=1.5,  # Fold factor for determining the capping limits\n",
        "                    variables=list(clean_data.iloc[:,:7].columns))  # Apply winsorization to all columns\n",
        "\n",
        "# Fit Winsorizer to the clean data\n",
        "outlier = winsor.fit(clean_data.iloc[:,:7])\n"
      ],
      "metadata": {
        "id": "iFoyHP_8RMD3"
      },
      "execution_count": null,
      "outputs": []
    },
    {
      "cell_type": "code",
      "source": [
        "# Save the winsorizer model\n",
        "joblib.dump(outlier, 'winsor')"
      ],
      "metadata": {
        "colab": {
          "base_uri": "https://localhost:8080/"
        },
        "id": "RnoUyZW3W1J4",
        "outputId": "c64bfd20-39f5-490f-dc3d-880464405b59"
      },
      "execution_count": null,
      "outputs": [
        {
          "output_type": "execute_result",
          "data": {
            "text/plain": [
              "['winsor']"
            ]
          },
          "metadata": {},
          "execution_count": 50
        }
      ]
    },
    {
      "cell_type": "code",
      "source": [
        "# Transform the clean data using the winsorizer\n",
        "clean_data[list(clean_data.iloc[:,:7].columns)] = outlier.transform(clean_data[list(clean_data.iloc[:,:7].columns)])\n",
        "\n",
        "# Plot box plots of the cleaned data\n",
        "ax = clean_data.iloc[:,:16].plot(kind = 'box', subplots = True, sharey = False, figsize = (25, 18))\n",
        "'''sharey True or 'all': x- or y-axis will be shared among all subplots.\n",
        "False or 'none': each subplot x- or y-axis will be independent.'''\n",
        "# Set x-axis labels rotation and fontsize for each subplot\n",
        "for subplot in ax:\n",
        "    subplot.set_xticklabels(subplot.get_xticklabels(), rotation=90, fontsize=21)\n",
        "# Adjust the spacing between subplots\n",
        "plt.subplots_adjust(wspace=0.9)\n",
        "# Show the plot\n",
        "plt.show()"
      ],
      "metadata": {
        "colab": {
          "base_uri": "https://localhost:8080/",
          "height": 1000
        },
        "id": "w6Qh1aoGW4G7",
        "outputId": "6fb4f196-fc61-41c6-afb1-b31f67d44a12"
      },
      "execution_count": null,
      "outputs": [
        {
          "output_type": "display_data",
          "data": {
            "text/plain": [
              "<Figure size 2500x1800 with 16 Axes>"
            ],
            "image/png": "[encoded data removed]"
          },
          "metadata": {}
        }
      ]
    },
    {
      "cell_type": "code",
      "source": [
        "# Splitting data into training and testing data set\n",
        "X_train, X_test, Y_train, Y_test = train_test_split(clean_data, target, test_size = 0.2,\n",
        "                                                    stratify = target, random_state = 0)"
      ],
      "metadata": {
        "id": "aAXjTDYnW4D-"
      },
      "execution_count": null,
      "outputs": []
    },
    {
      "cell_type": "code",
      "source": [
        "# # Bagging Classifier Model\n",
        "from sklearn.ensemble import BaggingClassifier\n",
        "from sklearn import tree\n",
        "clftree = tree.DecisionTreeClassifier()\n",
        "from sklearn.metrics import confusion_matrix\n",
        "from sklearn.metrics import accuracy_score"
      ],
      "metadata": {
        "id": "0aDdunmsXlM6"
      },
      "execution_count": null,
      "outputs": []
    },
    {
      "cell_type": "code",
      "source": [
        "# Define Bagging Classifier with specified parameters\n",
        "bag_clf = BaggingClassifier(estimator=clftree,  # Base estimator (Decision Tree)\n",
        "                            n_estimators=500,  # Number of base estimators\n",
        "                            bootstrap=True,  # Whether to bootstrap samples\n",
        "                            n_jobs=-1,  # Number of jobs to run in parallel\n",
        "                            random_state=42)  # Random state for reproducibility\n",
        "\n",
        "# Fit the Bagging Classifier on the training data\n",
        "bagging = bag_clf.fit(X_train, Y_train)"
      ],
      "metadata": {
        "id": "trkzgPVTW4B_"
      },
      "execution_count": null,
      "outputs": []
    },
    {
      "cell_type": "code",
      "source": [
        "# Evaluate performance on the training set\n",
        "print(confusion_matrix(Y_train, bagging.predict(X_train)))\n",
        "print(accuracy_score(Y_train, bagging.predict(X_train)))\n",
        "print('\\n')"
      ],
      "metadata": {
        "colab": {
          "base_uri": "https://localhost:8080/"
        },
        "id": "vVZRqaNRW3_l",
        "outputId": "44e59568-a7e1-48a3-8a40-e2d721223118"
      },
      "execution_count": null,
      "outputs": [
        {
          "output_type": "stream",
          "name": "stdout",
          "text": [
            "[[190   0]\n",
            " [  0 210]]\n",
            "1.0\n",
            "\n",
            "\n"
          ]
        }
      ]
    },
    {
      "cell_type": "code",
      "source": [
        "# Evaluate performance on the testing set\n",
        "print(confusion_matrix(Y_test, bagging.predict(X_test)))\n",
        "print(accuracy_score(Y_test, bagging.predict(X_test)))"
      ],
      "metadata": {
        "colab": {
          "base_uri": "https://localhost:8080/"
        },
        "id": "jlZ4R_xxW383",
        "outputId": "bd75c8ca-8b0a-412b-f8a4-b79f052c6cf9"
      },
      "execution_count": null,
      "outputs": [
        {
          "output_type": "stream",
          "name": "stdout",
          "text": [
            "[[16 31]\n",
            " [18 35]]\n",
            "0.51\n"
          ]
        }
      ]
    },
    {
      "cell_type": "code",
      "source": [
        "# Saving the trained model\n",
        "pickle.dump(bagging, open('baggingmodel.pkl', 'wb'))"
      ],
      "metadata": {
        "id": "1EjRwNXxW36H"
      },
      "execution_count": null,
      "outputs": []
    },
    {
      "cell_type": "code",
      "source": [
        "# Define function to perform cross-validation and return scores\n",
        "\n",
        "def cross_validation(model, _X, _y, _cv=5):\n",
        "    _scoring = ['accuracy', 'precision', 'recall', 'f1']\n",
        "    # Perform cross-validation\n",
        "    results = cross_validate(estimator=model,\n",
        "                             X=_X,\n",
        "                             y=_y,\n",
        "                             cv=_cv,\n",
        "                             scoring=_scoring,\n",
        "                             return_train_score=True)\n",
        "\n",
        "    # Create a DataFrame to store the results\n",
        "    return pd.DataFrame({\n",
        "        \"Training Accuracy scores\": results['train_accuracy'],\n",
        "        \"Mean Training Accuracy\": results['train_accuracy'].mean() * 100,\n",
        "        \"Training Precision scores\": results['train_precision'],\n",
        "        \"Mean Training Precision\": results['train_precision'].mean(),\n",
        "        \"Training Recall scores\": results['train_recall'],\n",
        "        \"Mean Training Recall\": results['train_recall'].mean(),\n",
        "        \"Training F1 scores\": results['train_f1'],\n",
        "        \"Mean Training F1 Score\": results['train_f1'].mean(),\n",
        "        \"Validation Accuracy scores\": results['test_accuracy'],\n",
        "        \"Mean Validation Accuracy\": results['test_accuracy'].mean() * 100,\n",
        "        \"Validation Precision scores\": results['test_precision'],\n",
        "        \"Mean Validation Precision\": results['test_precision'].mean(),\n",
        "        \"Validation Recall scores\": results['test_recall'],\n",
        "        \"Mean Validation Recall\": results['test_recall'].mean(),\n",
        "        \"Validation F1 scores\": results['test_f1'],\n",
        "        \"Mean Validation F1 Score\": results['test_f1'].mean()\n",
        "    })\n"
      ],
      "metadata": {
        "id": "IcP7xdi8W33j"
      },
      "execution_count": null,
      "outputs": []
    },
    {
      "cell_type": "code",
      "source": [
        "\n",
        "# Perform cross-validation for Bagging Classifier\n",
        "Bagging_cv_scores = cross_validation(bag_clf, X_train, Y_train, 5)\n",
        "\n",
        "# Define function to plot cross-validation results\n",
        "def plot_result(x_label, y_label, plot_title, train_data, val_data):\n",
        "    \"\"\"\n",
        "    Function to plot the cross-validation results.\n",
        "\n",
        "    Args:\n",
        "    - x_label: Label for the x-axis.\n",
        "    - y_label: Label for the y-axis.\n",
        "    - plot_title: Title of the plot.\n",
        "    - train_data: Training data scores.\n",
        "    - val_data: Validation data scores.\n",
        "    \"\"\"\n",
        "    # Set the size of the plot\n",
        "    plt.figure(figsize=(12, 6))\n",
        "\n",
        "    # Define the labels for the x-axis (folds)\n",
        "    labels = [\"1st Fold\", \"2nd Fold\", \"3rd Fold\", \"4th Fold\", \"5th Fold\"]\n",
        "\n",
        "    # Define the x-axis range\n",
        "    X_axis = np.arange(len(labels))\n",
        "\n",
        "    # Set the y-axis limits\n",
        "    plt.ylim(0.40000, 1)\n",
        "\n",
        "    # Plot the training data\n",
        "    plt.bar(X_axis - 0.2, train_data, 0.1, color='blue', label='Training')\n",
        "\n",
        "    # Plot the validation data\n",
        "    plt.bar(X_axis + 0.2, val_data, 0.1, color='red', label='Validation')\n",
        "\n",
        "    # Set the plot title\n",
        "    plt.title(plot_title, fontsize=30)\n",
        "\n",
        "    # Set the x-axis ticks and labels\n",
        "    plt.xticks(X_axis, labels)\n",
        "\n",
        "    # Set the x-axis label\n",
        "    plt.xlabel(x_label, fontsize=14)\n",
        "\n",
        "    # Set the y-axis label\n",
        "    plt.ylabel(y_label, fontsize=14)\n",
        "\n",
        "    # Add a legend\n",
        "    plt.legend()\n",
        "\n",
        "    # Add grid lines\n",
        "    plt.grid(True)\n",
        "\n",
        "    # Show the plot\n",
        "    plt.show()\n"
      ],
      "metadata": {
        "id": "bUg4V7cDW30R"
      },
      "execution_count": null,
      "outputs": []
    },
    {
      "cell_type": "code",
      "source": [
        "\n",
        "# Plot cross-validation results for Bagging Classifier\n",
        "plot_result(\"Fold\", \"Score\", \"Bagging Classifier Cross-Validation\",\n",
        "            Bagging_cv_scores[\"Mean Training Accuracy\"], Bagging_cv_scores[\"Mean Validation Accuracy\"])\n",
        "\n",
        "# Set up inline plotting\n",
        "# get_ipython().run_line_magic('matplotlib', 'inline')\n",
        "\n",
        "# Define model name for plotting\n",
        "model_name = \"Bagging Classifier\"\n",
        "\n",
        "# Plot accuracy scores in 5 Folds for Bagging Classifier\n",
        "plot_result(model_name,\n",
        "            \"Accuracy\",\n",
        "            \"Accuracy scores in 5 Folds\",\n",
        "            Bagging_cv_scores[\"Training Accuracy scores\"],\n",
        "            Bagging_cv_scores[\"Validation Accuracy scores\"])"
      ],
      "metadata": {
        "colab": {
          "base_uri": "https://localhost:8080/",
          "height": 1000
        },
        "id": "b_Ohtu3ZYOXI",
        "outputId": "2742c6da-8773-4087-d016-eabaaed2d025"
      },
      "execution_count": null,
      "outputs": [
        {
          "output_type": "display_data",
          "data": {
            "text/plain": [
              "<Figure size 1200x600 with 1 Axes>"
            ],
            "image/png": "[encoded data removed]"
          },
          "metadata": {}
        },
        {
          "output_type": "display_data",
          "data": {
            "text/plain": [
              "<Figure size 1200x600 with 1 Axes>"
            ],
            "image/png": "[encoded data removed]"
          },
          "metadata": {}
        }
      ]
    },
    {
      "cell_type": "code",
      "source": [
        "# Import RandomForestClassifier\n",
        "from sklearn.ensemble import RandomForestClassifier\n",
        "\n",
        "# Initialize RandomForestClassifier\n",
        "rf_Model = RandomForestClassifier()"
      ],
      "metadata": {
        "id": "85oPW2DEYOUe"
      },
      "execution_count": null,
      "outputs": []
    },
    {
      "cell_type": "code",
      "source": [
        "# Define hyperparameter values to tune\n",
        "n_estimators = [int(x) for x in np.linspace(start=10, stop=80, num=10)]  # Number of trees in the forest\n",
        "max_features = ['auto', 'sqrt']  # Number of features to consider when looking for the best split\n",
        "max_depth = [2, 4]  # Maximum depth of the tree\n",
        "min_samples_split = [2, 5]  # Minimum number of samples required to split an internal node\n",
        "min_samples_leaf = [1, 2]  # Minimum number of samples required to be at a leaf node\n",
        "bootstrap = [True, False]  # Method of selecting samples for training each tree"
      ],
      "metadata": {
        "id": "ihdM-4r6YOQn"
      },
      "execution_count": null,
      "outputs": []
    },
    {
      "cell_type": "code",
      "source": [
        "# Define a list of number of trees to try\n",
        "n_estimators = [int(x) for x in np.linspace(start=10, stop=80, num=10)]\n",
        "\n",
        "# Print the list of number of trees\n",
        "print(n_estimators)"
      ],
      "metadata": {
        "colab": {
          "base_uri": "https://localhost:8080/"
        },
        "id": "DSkKj2f-YONP",
        "outputId": "fc995e80-7ad0-46f3-f10d-fdbf263f075a"
      },
      "execution_count": null,
      "outputs": [
        {
          "output_type": "stream",
          "name": "stdout",
          "text": [
            "[10, 17, 25, 33, 41, 48, 56, 64, 72, 80]\n"
          ]
        }
      ]
    },
    {
      "cell_type": "code",
      "source": [
        "# Create the parameter grid\n",
        "param_grid = {'n_estimators': n_estimators,\n",
        "              'max_features': max_features,\n",
        "              'max_depth': max_depth,\n",
        "              'min_samples_split': min_samples_split,\n",
        "              'min_samples_leaf': min_samples_leaf,\n",
        "              'bootstrap': bootstrap}\n",
        "\n",
        "# Print the parameter grid\n",
        "print(param_grid)"
      ],
      "metadata": {
        "colab": {
          "base_uri": "https://localhost:8080/"
        },
        "id": "JacPAnYXYOKv",
        "outputId": "03a3f9c7-b4d6-4046-e3b2-e2ca4c3e417b"
      },
      "execution_count": null,
      "outputs": [
        {
          "output_type": "stream",
          "name": "stdout",
          "text": [
            "{'n_estimators': [10, 17, 25, 33, 41, 48, 56, 64, 72, 80], 'max_features': ['auto', 'sqrt'], 'max_depth': [2, 4], 'min_samples_split': [2, 5], 'min_samples_leaf': [1, 2], 'bootstrap': [True, False]}\n"
          ]
        }
      ]
    },
    {
      "cell_type": "code",
      "source": [
        "# Hyperparameter optimization with GridSearchCV\n",
        "rf_Grid = GridSearchCV(estimator=rf_Model, param_grid=param_grid, cv=10, verbose=1, n_jobs=-1)\n",
        "rf_Grid.fit(X_train, Y_train)\n",
        "\n",
        "# Get the best parameters\n",
        "rf_Grid.best_params_\n",
        "\n",
        "# Get the best estimator\n",
        "cv_rf_grid = rf_Grid.best_estimator_\n"
      ],
      "metadata": {
        "colab": {
          "base_uri": "https://localhost:8080/"
        },
        "id": "zAEYj1SFYOFj",
        "outputId": "b5b5a257-c6de-4b61-ce61-81517905acdc"
      },
      "execution_count": null,
      "outputs": [
        {
          "output_type": "stream",
          "name": "stdout",
          "text": [
            "Fitting 10 folds for each of 320 candidates, totalling 3200 fits\n"
          ]
        },
        {
          "output_type": "stream",
          "name": "stderr",
          "text": [
            "/usr/local/lib/python3.10/dist-packages/sklearn/model_selection/_validation.py:540: FitFailedWarning:\n",
            "\n",
            "\n",
            "1600 fits failed out of a total of 3200.\n",
            "The score on these train-test partitions for these parameters will be set to nan.\n",
            "If these failures are not expected, you can try to debug them by setting error_score='raise'.\n",
            "\n",
            "Below are more details about the failures:\n",
            "--------------------------------------------------------------------------------\n",
            "758 fits failed with the following error:\n",
            "Traceback (most recent call last):\n",
            "  File \"/usr/local/lib/python3.10/dist-packages/sklearn/model_selection/_validation.py\", line 888, in _fit_and_score\n",
            "    estimator.fit(X_train, y_train, **fit_params)\n",
            "  File \"/usr/local/lib/python3.10/dist-packages/sklearn/base.py\", line 1466, in wrapper\n",
            "    estimator._validate_params()\n",
            "  File \"/usr/local/lib/python3.10/dist-packages/sklearn/base.py\", line 666, in _validate_params\n",
            "    validate_parameter_constraints(\n",
            "  File \"/usr/local/lib/python3.10/dist-packages/sklearn/utils/_param_validation.py\", line 95, in validate_parameter_constraints\n",
            "    raise InvalidParameterError(\n",
            "sklearn.utils._param_validation.InvalidParameterError: The 'max_features' parameter of RandomForestClassifier must be an int in the range [1, inf), a float in the range (0.0, 1.0], a str among {'log2', 'sqrt'} or None. Got 'auto' instead.\n",
            "\n",
            "--------------------------------------------------------------------------------\n",
            "842 fits failed with the following error:\n",
            "Traceback (most recent call last):\n",
            "  File \"/usr/local/lib/python3.10/dist-packages/sklearn/model_selection/_validation.py\", line 888, in _fit_and_score\n",
            "    estimator.fit(X_train, y_train, **fit_params)\n",
            "  File \"/usr/local/lib/python3.10/dist-packages/sklearn/base.py\", line 1466, in wrapper\n",
            "    estimator._validate_params()\n",
            "  File \"/usr/local/lib/python3.10/dist-packages/sklearn/base.py\", line 666, in _validate_params\n",
            "    validate_parameter_constraints(\n",
            "  File \"/usr/local/lib/python3.10/dist-packages/sklearn/utils/_param_validation.py\", line 95, in validate_parameter_constraints\n",
            "    raise InvalidParameterError(\n",
            "sklearn.utils._param_validation.InvalidParameterError: The 'max_features' parameter of RandomForestClassifier must be an int in the range [1, inf), a float in the range (0.0, 1.0], a str among {'sqrt', 'log2'} or None. Got 'auto' instead.\n",
            "\n",
            "\n",
            "/usr/local/lib/python3.10/dist-packages/sklearn/model_selection/_search.py:1103: UserWarning:\n",
            "\n",
            "One or more of the test scores are non-finite: [   nan    nan    nan    nan    nan    nan    nan    nan    nan    nan\n",
            "    nan    nan    nan    nan    nan    nan    nan    nan    nan    nan\n",
            "    nan    nan    nan    nan    nan    nan    nan    nan    nan    nan\n",
            "    nan    nan    nan    nan    nan    nan    nan    nan    nan    nan\n",
            " 0.5275 0.5225 0.51   0.5175 0.525  0.5275 0.515  0.5225 0.525  0.525\n",
            " 0.4925 0.53   0.5225 0.52   0.5225 0.5125 0.5225 0.5225 0.525  0.5225\n",
            " 0.52   0.535  0.5175 0.5275 0.5275 0.52   0.52   0.5325 0.535  0.525\n",
            " 0.515  0.5375 0.535  0.5275 0.5175 0.5275 0.525  0.5275 0.5225 0.5225\n",
            "    nan    nan    nan    nan    nan    nan    nan    nan    nan    nan\n",
            "    nan    nan    nan    nan    nan    nan    nan    nan    nan    nan\n",
            "    nan    nan    nan    nan    nan    nan    nan    nan    nan    nan\n",
            "    nan    nan    nan    nan    nan    nan    nan    nan    nan    nan\n",
            " 0.5225 0.53   0.51   0.535  0.53   0.505  0.515  0.505  0.53   0.5275\n",
            " 0.52   0.5025 0.5275 0.4975 0.5275 0.5175 0.51   0.5    0.5175 0.525\n",
            " 0.5375 0.5175 0.515  0.5325 0.5325 0.52   0.5275 0.52   0.5225 0.5225\n",
            " 0.52   0.5    0.4775 0.53   0.5225 0.5325 0.525  0.5175 0.5175 0.5125\n",
            "    nan    nan    nan    nan    nan    nan    nan    nan    nan    nan\n",
            "    nan    nan    nan    nan    nan    nan    nan    nan    nan    nan\n",
            "    nan    nan    nan    nan    nan    nan    nan    nan    nan    nan\n",
            "    nan    nan    nan    nan    nan    nan    nan    nan    nan    nan\n",
            " 0.4975 0.51   0.525  0.5275 0.5175 0.52   0.5175 0.5225 0.52   0.52\n",
            " 0.52   0.5125 0.5175 0.525  0.5225 0.525  0.5225 0.52   0.525  0.5275\n",
            " 0.5    0.5225 0.515  0.5175 0.5225 0.5225 0.52   0.5225 0.5225 0.525\n",
            " 0.5125 0.5125 0.5275 0.52   0.5175 0.525  0.5275 0.5225 0.525  0.5225\n",
            "    nan    nan    nan    nan    nan    nan    nan    nan    nan    nan\n",
            "    nan    nan    nan    nan    nan    nan    nan    nan    nan    nan\n",
            "    nan    nan    nan    nan    nan    nan    nan    nan    nan    nan\n",
            "    nan    nan    nan    nan    nan    nan    nan    nan    nan    nan\n",
            " 0.4875 0.4975 0.5175 0.5    0.495  0.495  0.5125 0.5025 0.5075 0.5075\n",
            " 0.53   0.4975 0.4825 0.5    0.4975 0.4925 0.485  0.5025 0.485  0.4875\n",
            " 0.4975 0.5075 0.5075 0.52   0.515  0.5225 0.5225 0.5325 0.5175 0.52\n",
            " 0.5275 0.525  0.5225 0.5125 0.51   0.5225 0.5175 0.5225 0.5225 0.5225]\n",
            "\n"
          ]
        }
      ]
    },
    {
      "cell_type": "code",
      "source": [
        "# Evaluation on Test Data\n",
        "test_pred = cv_rf_grid.predict(X_test)\n",
        "\n",
        "# Calculate accuracy on test data\n",
        "accuracy_test = np.mean(test_pred == Y_test)\n",
        "accuracy_test"
      ],
      "metadata": {
        "colab": {
          "base_uri": "https://localhost:8080/"
        },
        "id": "pUtdiAi0ZJw2",
        "outputId": "a981a0e1-2821-4687-9f7f-f2daa29942c7"
      },
      "execution_count": null,
      "outputs": [
        {
          "output_type": "execute_result",
          "data": {
            "text/plain": [
              "0.51"
            ]
          },
          "metadata": {},
          "execution_count": 72
        }
      ]
    },
    {
      "cell_type": "code",
      "source": [
        "# Compute confusion matrix\n",
        "cm = skmet.confusion_matrix(Y_test, test_pred)\n",
        "\n",
        "# Plot confusion matrix\n",
        "cmplot = skmet.ConfusionMatrixDisplay(confusion_matrix=cm, display_labels=['Satisfied', 'Not Satisfied'])\n",
        "cmplot.plot()\n",
        "cmplot.ax_.set(title='Employee Satisfaction Confusion Matrix', xlabel='Predicted Value', ylabel='Actual Value')\n"
      ],
      "metadata": {
        "colab": {
          "base_uri": "https://localhost:8080/",
          "height": 521
        },
        "id": "ad0N_GEyZzHB",
        "outputId": "125eba05-2ccd-4d75-aa9f-eb5a0b9c9e14"
      },
      "execution_count": null,
      "outputs": [
        {
          "output_type": "execute_result",
          "data": {
            "text/plain": [
              "[Text(0.5, 1.0, 'Employee Satisfaction Confusion Matrix'),\n",
              " Text(0.5, 0, 'Predicted Value'),\n",
              " Text(0, 0.5, 'Actual Value')]"
            ]
          },
          "metadata": {},
          "execution_count": 74
        },
        {
          "output_type": "display_data",
          "data": {
            "text/plain": [
              "<Figure size 640x480 with 2 Axes>"
            ],
            "image/png": "[encoded data removed]"
          },
          "metadata": {}
        }
      ]
    },
    {
      "cell_type": "code",
      "source": [
        "# ### Hyperparameter optimization with RandomizedSearchCV\n",
        "# Perform hyperparameter optimization with RandomizedSearchCV\n",
        "rf_Random = RandomizedSearchCV(estimator=rf_Model, param_distributions=param_grid, cv=10, verbose=2, n_jobs=-1)\n",
        "rf_Random.fit(X_train, Y_train)\n",
        "\n",
        "# Get the best parameters\n",
        "best_params_random = rf_Random.best_params_\n",
        "print(\"Best Parameters (Randomized Search):\", best_params_random)\n",
        "\n",
        "# Get the best estimator\n",
        "best_estimator_random = rf_Random.best_estimator_\n"
      ],
      "metadata": {
        "colab": {
          "base_uri": "https://localhost:8080/"
        },
        "id": "khECY0j2Z5ip",
        "outputId": "7b1d8b6d-3e42-423f-a89b-efdb3f880ed6"
      },
      "execution_count": null,
      "outputs": [
        {
          "output_type": "stream",
          "name": "stdout",
          "text": [
            "Fitting 10 folds for each of 10 candidates, totalling 100 fits\n",
            "Best Parameters (Randomized Search): {'n_estimators': 10, 'min_samples_split': 2, 'min_samples_leaf': 1, 'max_features': 'sqrt', 'max_depth': 2, 'bootstrap': True}\n"
          ]
        },
        {
          "output_type": "stream",
          "name": "stderr",
          "text": [
            "/usr/local/lib/python3.10/dist-packages/sklearn/model_selection/_validation.py:540: FitFailedWarning:\n",
            "\n",
            "\n",
            "50 fits failed out of a total of 100.\n",
            "The score on these train-test partitions for these parameters will be set to nan.\n",
            "If these failures are not expected, you can try to debug them by setting error_score='raise'.\n",
            "\n",
            "Below are more details about the failures:\n",
            "--------------------------------------------------------------------------------\n",
            "20 fits failed with the following error:\n",
            "Traceback (most recent call last):\n",
            "  File \"/usr/local/lib/python3.10/dist-packages/sklearn/model_selection/_validation.py\", line 888, in _fit_and_score\n",
            "    estimator.fit(X_train, y_train, **fit_params)\n",
            "  File \"/usr/local/lib/python3.10/dist-packages/sklearn/base.py\", line 1466, in wrapper\n",
            "    estimator._validate_params()\n",
            "  File \"/usr/local/lib/python3.10/dist-packages/sklearn/base.py\", line 666, in _validate_params\n",
            "    validate_parameter_constraints(\n",
            "  File \"/usr/local/lib/python3.10/dist-packages/sklearn/utils/_param_validation.py\", line 95, in validate_parameter_constraints\n",
            "    raise InvalidParameterError(\n",
            "sklearn.utils._param_validation.InvalidParameterError: The 'max_features' parameter of RandomForestClassifier must be an int in the range [1, inf), a float in the range (0.0, 1.0], a str among {'sqrt', 'log2'} or None. Got 'auto' instead.\n",
            "\n",
            "--------------------------------------------------------------------------------\n",
            "30 fits failed with the following error:\n",
            "Traceback (most recent call last):\n",
            "  File \"/usr/local/lib/python3.10/dist-packages/sklearn/model_selection/_validation.py\", line 888, in _fit_and_score\n",
            "    estimator.fit(X_train, y_train, **fit_params)\n",
            "  File \"/usr/local/lib/python3.10/dist-packages/sklearn/base.py\", line 1466, in wrapper\n",
            "    estimator._validate_params()\n",
            "  File \"/usr/local/lib/python3.10/dist-packages/sklearn/base.py\", line 666, in _validate_params\n",
            "    validate_parameter_constraints(\n",
            "  File \"/usr/local/lib/python3.10/dist-packages/sklearn/utils/_param_validation.py\", line 95, in validate_parameter_constraints\n",
            "    raise InvalidParameterError(\n",
            "sklearn.utils._param_validation.InvalidParameterError: The 'max_features' parameter of RandomForestClassifier must be an int in the range [1, inf), a float in the range (0.0, 1.0], a str among {'log2', 'sqrt'} or None. Got 'auto' instead.\n",
            "\n",
            "\n",
            "/usr/local/lib/python3.10/dist-packages/sklearn/model_selection/_search.py:1103: UserWarning:\n",
            "\n",
            "One or more of the test scores are non-finite: [0.515     nan 0.53   0.5175 0.52      nan    nan    nan    nan 0.5075]\n",
            "\n"
          ]
        }
      ]
    },
    {
      "cell_type": "code",
      "source": [
        "# Evaluation on Test Data\n",
        "test_pred_random = best_estimator_random.predict(X_test)\n",
        "\n",
        "# Calculate accuracy on test data\n",
        "accuracy_test_random = np.mean(test_pred_random == Y_test)\n",
        "print(\"Test Accuracy (Randomized Search):\", accuracy_test_random)\n"
      ],
      "metadata": {
        "colab": {
          "base_uri": "https://localhost:8080/"
        },
        "id": "BwifEHysaNwF",
        "outputId": "958724a2-ecc1-48ea-d308-270e9db1f054"
      },
      "execution_count": null,
      "outputs": [
        {
          "output_type": "stream",
          "name": "stdout",
          "text": [
            "Test Accuracy (Randomized Search): 0.53\n"
          ]
        }
      ]
    },
    {
      "cell_type": "code",
      "source": [
        "# Compute confusion matrix\n",
        "cm_random = skmet.confusion_matrix(Y_test, test_pred_random)\n",
        "\n",
        "# Plot confusion matrix\n",
        "cmplot = skmet.ConfusionMatrixDisplay(confusion_matrix=cm_random, display_labels=['Satisfied', 'Not Satisfied'])\n",
        "cmplot.plot()\n",
        "cmplot.ax_.set(title='Employee Satisfaction Detection Confusion Matrix', xlabel='Predicted Value', ylabel='Actual Value')\n"
      ],
      "metadata": {
        "colab": {
          "base_uri": "https://localhost:8080/",
          "height": 521
        },
        "id": "7AbhVoxwaRiJ",
        "outputId": "4414c92c-d4ce-46a0-bfe1-4f61dccf2dd8"
      },
      "execution_count": null,
      "outputs": [
        {
          "output_type": "execute_result",
          "data": {
            "text/plain": [
              "[Text(0.5, 1.0, 'Employee Satisfaction Detection Confusion Matrix'),\n",
              " Text(0.5, 0, 'Predicted Value'),\n",
              " Text(0, 0.5, 'Actual Value')]"
            ]
          },
          "metadata": {},
          "execution_count": 78
        },
        {
          "output_type": "display_data",
          "data": {
            "text/plain": [
              "<Figure size 640x480 with 2 Axes>"
            ],
            "image/png": "[encoded data removed]"
          },
          "metadata": {}
        }
      ]
    },
    {
      "cell_type": "code",
      "source": [
        "# Print train and test accuracy\n",
        "train_accuracy_random = rf_Random.score(X_train, Y_train)\n",
        "test_accuracy_random = rf_Random.score(X_test, Y_test)\n",
        "print(f'Train Accuracy (Randomized Search): {train_accuracy_random:.3f}')\n",
        "print(f'Test Accuracy (Randomized Search): {test_accuracy_random:.3f}')"
      ],
      "metadata": {
        "colab": {
          "base_uri": "https://localhost:8080/"
        },
        "id": "MR8aHmgrad1j",
        "outputId": "ddfbd157-f680-4f67-b73b-d97b35e7b6be"
      },
      "execution_count": null,
      "outputs": [
        {
          "output_type": "stream",
          "name": "stdout",
          "text": [
            "Train Accuracy (Randomized Search): 0.570\n",
            "Test Accuracy (Randomized Search): 0.530\n"
          ]
        }
      ]
    },
    {
      "cell_type": "code",
      "source": [
        "\n",
        "# ## Save the best model from Randomsearch CV approach\n",
        "pickle.dump(best_estimator_random, open('rfc.pkl', 'wb'))\n",
        "\n"
      ],
      "metadata": {
        "id": "Z2rRIbZwah7R"
      },
      "execution_count": null,
      "outputs": []
    },
    {
      "cell_type": "code",
      "source": [
        "# ## Cross Validation implementation\n",
        "# from sklearn.model_selection import cross_validate\n",
        "\n",
        "\n",
        "# Perform cross-validation for Random Forest model\n",
        "Random_forest_result = cross_validation(best_estimator_random, X_train, Y_train, 5)\n",
        "Random_forest_result\n",
        "\n",
        "# Define the model name for plotting\n",
        "model_name = \"RandomForestClassifier\"\n",
        "\n",
        "# Plot the accuracy scores for training and validation data\n",
        "plot_result(model_name,\n",
        "            \"Accuracy\",\n",
        "            \"Accuracy scores in 5 Folds\",\n",
        "            Random_forest_result[\"Training Accuracy scores\"],  # Training accuracy scores\n",
        "            Random_forest_result[\"Validation Accuracy scores\"])  # Validation accuracy scores"
      ],
      "metadata": {
        "colab": {
          "base_uri": "https://localhost:8080/",
          "height": 583
        },
        "id": "ZXWUl0gvaoKR",
        "outputId": "805d82ce-04d6-4ff7-8012-16739ca43370"
      },
      "execution_count": null,
      "outputs": [
        {
          "output_type": "display_data",
          "data": {
            "text/plain": [
              "<Figure size 1200x600 with 1 Axes>"
            ],
            "image/png": "[encoded data removed]"
          },
          "metadata": {}
        }
      ]
    },
    {
      "cell_type": "code",
      "source": [
        "# #  AdaBoosting\n",
        "# from sklearn.ensemble import AdaBoostClassifier\n",
        "\n",
        "# Initialize AdaBoostClassifier with specified parameters\n",
        "ada_clf = AdaBoostClassifier(learning_rate=0.02, n_estimators=5000)\n",
        "\n",
        "# Fit AdaBoostClassifier on training data\n",
        "ada_clf1 = ada_clf.fit(X_train, Y_train)"
      ],
      "metadata": {
        "colab": {
          "base_uri": "https://localhost:8080/"
        },
        "id": "SWdnvPzvauJ9",
        "outputId": "1bd3ec83-8314-4038-fd08-1805282efe73"
      },
      "execution_count": null,
      "outputs": [
        {
          "output_type": "stream",
          "name": "stderr",
          "text": [
            "/usr/local/lib/python3.10/dist-packages/sklearn/ensemble/_weight_boosting.py:527: FutureWarning:\n",
            "\n",
            "The SAMME.R algorithm (the default) is deprecated and will be removed in 1.6. Use the SAMME algorithm to circumvent this warning.\n",
            "\n"
          ]
        }
      ]
    },
    {
      "cell_type": "code",
      "source": [
        "# Make predictions on testing data\n",
        "predictions = ada_clf1.predict(X_test)\n",
        "\n",
        "# Evaluate model performance on testing data\n",
        "confusion_matrix(Y_test, predictions)  # Compute confusion matrix\n",
        "accuracy_score(Y_test, predictions)  # Compute accuracy score\n",
        "\n",
        "# Evaluate model performance on training data\n",
        "accuracy_score(Y_train, ada_clf1.predict(X_train))"
      ],
      "metadata": {
        "colab": {
          "base_uri": "https://localhost:8080/"
        },
        "id": "8IRRblhfazW0",
        "outputId": "cf8ae451-d808-489d-8057-f369520cb9be"
      },
      "execution_count": null,
      "outputs": [
        {
          "output_type": "execute_result",
          "data": {
            "text/plain": [
              "1.0"
            ]
          },
          "metadata": {},
          "execution_count": 83
        }
      ]
    },
    {
      "cell_type": "code",
      "source": [
        "# Save the trained AdaBoost model\n",
        "pickle.dump(ada_clf1, open('adaboost.pkl', 'wb'))\n"
      ],
      "metadata": {
        "id": "vx2d9GrYa3eA"
      },
      "execution_count": null,
      "outputs": []
    },
    {
      "cell_type": "code",
      "source": [
        "# Initialize GradientBoostingClassifier\n",
        "boost_clf = GradientBoostingClassifier()\n",
        "\n",
        "# Fit GradientBoostingClassifier on training data\n",
        "boost_clf1 = boost_clf.fit(X_train, Y_train)\n",
        "\n",
        "# Make predictions on testing data\n",
        "grad_pred = boost_clf1.predict(X_test)"
      ],
      "metadata": {
        "id": "Ue2Ek5Wta-69"
      },
      "execution_count": null,
      "outputs": []
    },
    {
      "cell_type": "code",
      "source": [
        "# Evaluate model performance on testing data\n",
        "print(confusion_matrix(Y_test, grad_pred))  # Compute confusion matrix\n",
        "print(accuracy_score(Y_test, grad_pred))  # Compute accuracy score\n"
      ],
      "metadata": {
        "colab": {
          "base_uri": "https://localhost:8080/"
        },
        "id": "PqL2k2ZKbFPa",
        "outputId": "c0bde474-5c5d-454e-c061-f7aead60f0fd"
      },
      "execution_count": null,
      "outputs": [
        {
          "output_type": "stream",
          "name": "stdout",
          "text": [
            "[[ 7 40]\n",
            " [18 35]]\n",
            "0.42\n"
          ]
        }
      ]
    },
    {
      "cell_type": "code",
      "source": [
        "# Evaluate model performance on training data\n",
        "print(confusion_matrix(Y_train, boost_clf1.predict(X_train)))  # Compute confusion matrix\n",
        "print(accuracy_score(Y_train, boost_clf1.predict(X_train)))"
      ],
      "metadata": {
        "colab": {
          "base_uri": "https://localhost:8080/"
        },
        "id": "L8Jyh6PKbFLE",
        "outputId": "bff8011c-a3de-4e66-b6de-def5862abb15"
      },
      "execution_count": null,
      "outputs": [
        {
          "output_type": "stream",
          "name": "stdout",
          "text": [
            "[[189   1]\n",
            " [  0 210]]\n",
            "0.9975\n"
          ]
        }
      ]
    },
    {
      "cell_type": "code",
      "source": [
        "# https://scikit-learn.org/stable/modules/generated/sklearn.ensemble.GradientBoostingClassifier.html#sklearn.ensemble.GradientBoostingClassifier\n",
        "\n",
        "# Initialize GradientBoostingClassifier with specified hyperparameters\n",
        "boost_clf2 = GradientBoostingClassifier(learning_rate=0.02, n_estimators=1000, max_depth=1)\n",
        "\n",
        "# Fit GradientBoostingClassifier with specified hyperparameters on training data\n",
        "boost_clf_p = boost_clf2.fit(X_train, Y_train)\n"
      ],
      "metadata": {
        "id": "HPoQUbdrbRO4"
      },
      "execution_count": null,
      "outputs": []
    },
    {
      "cell_type": "code",
      "source": [
        "# Make predictions on testing data using the trained model with specified hyperparameters\n",
        "grad_pred_p = boost_clf_p.predict(X_test)\n",
        "\n",
        "# Evaluate model performance on testing data with specified hyperparameters\n",
        "print(confusion_matrix(Y_test, grad_pred_p))  # Compute confusion matrix\n",
        "print('\\n')\n",
        "print(accuracy_score(Y_test, grad_pred_p))  # Compute accuracy score\n"
      ],
      "metadata": {
        "colab": {
          "base_uri": "https://localhost:8080/"
        },
        "id": "uRQC3nusbRKj",
        "outputId": "065dfc9a-602f-419b-e1c2-0981bd2de064"
      },
      "execution_count": null,
      "outputs": [
        {
          "output_type": "stream",
          "name": "stdout",
          "text": [
            "[[ 5 42]\n",
            " [17 36]]\n",
            "\n",
            "\n",
            "0.41\n"
          ]
        }
      ]
    },
    {
      "cell_type": "code",
      "source": [
        "# Evaluate model performance on training data with specified hyperparameters\n",
        "print(confusion_matrix(Y_train, boost_clf_p.predict(X_train)))  # Compute confusion matrix\n",
        "accuracy_score(Y_train, boost_clf_p.predict(X_train))  # Compute accuracy score\n",
        "\n",
        "# Save the trained GradientBoosting model with specified hyperparameters to a file\n",
        "pickle.dump(boost_clf_p, open('gradiantboostparam.pkl', 'wb'))\n"
      ],
      "metadata": {
        "colab": {
          "base_uri": "https://localhost:8080/"
        },
        "id": "BiTngWEabRHa",
        "outputId": "2b77f416-58e7-4462-cace-bc9886e0b93e"
      },
      "execution_count": null,
      "outputs": [
        {
          "output_type": "stream",
          "name": "stdout",
          "text": [
            "[[ 78 112]\n",
            " [ 37 173]]\n"
          ]
        }
      ]
    },
    {
      "cell_type": "code",
      "source": [
        "# Load the saved GradientBoosting model with specified hyperparameters from the file\n",
        "grad_model_p = pickle.load(open('gradiantboostparam.pkl', 'rb'))"
      ],
      "metadata": {
        "id": "KQ8kHTh0bREs"
      },
      "execution_count": null,
      "outputs": []
    },
    {
      "cell_type": "code",
      "source": [
        "pip install xgboost"
      ],
      "metadata": {
        "colab": {
          "base_uri": "https://localhost:8080/"
        },
        "id": "dZhOdnDwbojs",
        "outputId": "07db1d8b-eda2-4322-f49e-31b6f69446c7"
      },
      "execution_count": null,
      "outputs": [
        {
          "output_type": "stream",
          "name": "stdout",
          "text": [
            "Requirement already satisfied: xgboost in /usr/local/lib/python3.10/dist-packages (2.1.1)\n",
            "Requirement already satisfied: numpy in /usr/local/lib/python3.10/dist-packages (from xgboost) (1.26.4)\n",
            "Requirement already satisfied: nvidia-nccl-cu12 in /usr/local/lib/python3.10/dist-packages (from xgboost) (2.23.4)\n",
            "Requirement already satisfied: scipy in /usr/local/lib/python3.10/dist-packages (from xgboost) (1.13.1)\n"
          ]
        }
      ]
    },
    {
      "cell_type": "code",
      "source": [
        "## XGBoosting\n",
        "import xgboost as xgb\n",
        "\n",
        "# Initialize XGBClassifier with specified hyperparameters\n",
        "xgb_clf = xgb.XGBClassifier(max_depth=5, n_estimators=10000, learning_rate=0.3, n_jobs=-1)\n",
        "\n",
        "# Fit XGBClassifier with specified hyperparameters on the training data\n",
        "xgb_clf1 = xgb_clf.fit(X_train, Y_train)\n"
      ],
      "metadata": {
        "id": "hjnjryZKbRB6"
      },
      "execution_count": null,
      "outputs": []
    },
    {
      "cell_type": "code",
      "source": [
        "# Make predictions on the testing data using the trained XGBClassifier\n",
        "xgb_pred = xgb_clf1.predict(X_test)\n",
        "\n",
        "# Evaluate model performance on the testing data\n",
        "print(confusion_matrix(Y_test, xgb_pred))  # Compute confusion matrix\n",
        "accuracy_score(Y_test, xgb_pred)"
      ],
      "metadata": {
        "colab": {
          "base_uri": "https://localhost:8080/"
        },
        "id": "xHojF1l1bQ7r",
        "outputId": "9fba80ff-4a2c-4188-a1ed-c14a72f6a1e4"
      },
      "execution_count": null,
      "outputs": [
        {
          "output_type": "stream",
          "name": "stdout",
          "text": [
            "[[21 26]\n",
            " [20 33]]\n"
          ]
        },
        {
          "output_type": "execute_result",
          "data": {
            "text/plain": [
              "0.54"
            ]
          },
          "metadata": {},
          "execution_count": 97
        }
      ]
    },
    {
      "cell_type": "code",
      "source": [
        "# Plot feature importance\n",
        "xgb.plot_importance(xgb_clf)\n",
        "# Get feature importance values and create a DataFrame\n",
        "fi = pd.DataFrame(xgb_clf1.feature_importances_.reshape(1, -1), columns=X_train.columns)\n",
        "fi\n",
        "\n",
        "# Save the trained XGBClassifier model to a file\n",
        "pickle.dump(xgb_clf1, open('xgb.pkl', 'wb'))"
      ],
      "metadata": {
        "colab": {
          "base_uri": "https://localhost:8080/",
          "height": 466
        },
        "id": "Sefw5tJhb1FJ",
        "outputId": "81f97492-0c0e-4c14-a509-0d1ce57dd183"
      },
      "execution_count": null,
      "outputs": [
        {
          "output_type": "display_data",
          "data": {
            "text/plain": [
              "<Figure size 640x480 with 1 Axes>"
            ],
            "image/png": "[encoded data removed]"
          },
          "metadata": {}
        }
      ]
    },
    {
      "cell_type": "code",
      "source": [
        "# Load the saved XGBClassifier model from the file\n",
        "xgb_model = pickle.load(open('xgb.pkl', 'rb'))\n",
        "# Perform RandomizedSearchCV for XGBClassifier hyperparameters\n",
        "xgb_clf = xgb.XGBClassifier(n_estimators=500, learning_rate=0.1, random_state=42)"
      ],
      "metadata": {
        "id": "s0gLQRZZb4-N"
      },
      "execution_count": null,
      "outputs": []
    },
    {
      "cell_type": "code",
      "source": [
        "# Define parameter grid for hyperparameter tuning\n",
        "param_test1 = {'max_depth': range(3, 10, 2), 'gamma': [0.1, 0.2, 0.3],\n",
        "               'subsample': [0.8, 0.9], 'colsample_bytree': [0.8, 0.9]}\n",
        "\n",
        "# Initialize RandomizedSearchCV with defined parameter grid\n",
        "xgb_RandomGrid = RandomizedSearchCV(estimator=xgb_clf,\n",
        "                                     param_distributions=param_test1,\n",
        "                                     cv=5, verbose=2, n_jobs=-1)"
      ],
      "metadata": {
        "id": "_QslAkWeb47P"
      },
      "execution_count": null,
      "outputs": []
    },
    {
      "cell_type": "code",
      "source": [
        "# Perform RandomizedSearchCV on training data\n",
        "Randomized_search1 = xgb_RandomGrid.fit(X_train, Y_train)\n",
        "\n",
        "# Get the best estimator from RandomizedSearchCV\n",
        "cv_xg_clf = Randomized_search1.best_estimator_\n",
        "\n",
        "# Make predictions on the testing data using the best estimator\n",
        "randomized_pred = Randomized_search1.predict(X_test)\n",
        "\n",
        "# Evaluate model performance on the testing data with the best estimator\n",
        "accuracy_score(Y_test, randomized_pred)"
      ],
      "metadata": {
        "colab": {
          "base_uri": "https://localhost:8080/"
        },
        "id": "NYrstbEDb43-",
        "outputId": "cf076ace-fe0f-4b31-cefd-195b1ff3dfda"
      },
      "execution_count": null,
      "outputs": [
        {
          "output_type": "stream",
          "name": "stdout",
          "text": [
            "Fitting 5 folds for each of 10 candidates, totalling 50 fits\n"
          ]
        },
        {
          "output_type": "execute_result",
          "data": {
            "text/plain": [
              "0.53"
            ]
          },
          "metadata": {},
          "execution_count": 102
        }
      ]
    },
    {
      "cell_type": "code",
      "source": [
        "# Get the best hyperparameters found by RandomizedSearchCV\n",
        "Randomized_search1.best_params_\n",
        "\n",
        "# Make predictions on the training data using the best estimator\n",
        "randomized_pred_1 = Randomized_search1.predict(X_train)\n",
        "\n",
        "# Evaluate model performance on the training data with the best estimator\n",
        "accuracy_score(Y_train, randomized_pred_1)\n",
        "\n",
        "# Save the best estimator (model with hyperparameters) to a file\n",
        "pickle.dump(cv_xg_clf, open('Randomizedsearch_xgb.pkl', 'wb'))\n",
        "\n",
        "print(accuracy_score(Y_train, randomized_pred_1))"
      ],
      "metadata": {
        "colab": {
          "base_uri": "https://localhost:8080/"
        },
        "id": "BCopMNrHcZqA",
        "outputId": "6ad2598a-7624-4e07-85ea-b842a91f334a"
      },
      "execution_count": null,
      "outputs": [
        {
          "output_type": "stream",
          "name": "stdout",
          "text": [
            "1.0\n"
          ]
        }
      ]
    }
  ]
}